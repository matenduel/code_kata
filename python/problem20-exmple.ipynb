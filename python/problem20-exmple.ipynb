{
 "cells": [
  {
   "cell_type": "markdown",
   "source": [
    "### Problem20: for-else && while-else"
   ],
   "metadata": {
    "collapsed": false,
    "pycharm": {
     "name": "#%% md\n"
    }
   }
  },
  {
   "cell_type": "markdown",
   "source": [
    "##### Step 1: for - else"
   ],
   "metadata": {
    "collapsed": false,
    "pycharm": {
     "name": "#%% md\n"
    }
   }
  },
  {
   "cell_type": "code",
   "execution_count": 2,
   "outputs": [
    {
     "name": "stdout",
     "output_type": "stream",
     "text": [
      "'numbers' contain an odd number\n"
     ]
    }
   ],
   "source": [
    "# check numbers contain odd number without else statement\n",
    "numbers = [2, 6, 8, 14, 3]\n",
    "contain_odd = False\n",
    "\n",
    "for number in numbers:\n",
    "    if number % 2 != 0:\n",
    "        contain_odd = True\n",
    "        break\n",
    "\n",
    "if contain_odd:\n",
    "    print(\"'numbers' contain an odd number\")\n",
    "else:\n",
    "    print(\"'numbers' only contain an even number\")"
   ],
   "metadata": {
    "collapsed": false,
    "pycharm": {
     "name": "#%%\n"
    }
   }
  },
  {
   "cell_type": "code",
   "execution_count": 4,
   "outputs": [
    {
     "name": "stdout",
     "output_type": "stream",
     "text": [
      "'numbers' only contain an even number\n"
     ]
    }
   ],
   "source": [
    "# check numbers contain odd number with else statement\n",
    "numbers = [2, 6, 8, 14, 4]\n",
    "\n",
    "for number in numbers:\n",
    "    if number % 2 != 0:\n",
    "        print(\"'numbers' contain an odd number\")\n",
    "        break\n",
    "else:\n",
    "    print(\"'numbers' only contain an even number\")\n"
   ],
   "metadata": {
    "collapsed": false,
    "pycharm": {
     "name": "#%%\n"
    }
   }
  },
  {
   "cell_type": "markdown",
   "source": [
    "##### Step 2: while else"
   ],
   "metadata": {
    "collapsed": false,
    "pycharm": {
     "name": "#%% md\n"
    }
   }
  },
  {
   "cell_type": "code",
   "execution_count": 10,
   "outputs": [
    {
     "name": "stdout",
     "output_type": "stream",
     "text": [
      "2 is a prime number!\n",
      "3 is a prime number!\n",
      "4 is a prime number!\n",
      "5 is a prime number!\n",
      "6 is not a prime number!\n",
      "7 is a prime number!\n",
      "8 is not a prime number!\n",
      "9 is not a prime number!\n",
      "prime_list=[2, 3, 4, 5, 7]\n"
     ]
    }
   ],
   "source": [
    "# check that 'i' is a prime number or not without the 'else' statement\n",
    "prime_list = []\n",
    "for i in range(2, 10):\n",
    "    n = 2\n",
    "    is_prime = True\n",
    "    while n < i//2:\n",
    "        if (i % n) == 0:\n",
    "            is_prime = False\n",
    "            break\n",
    "        n += 1\n",
    "\n",
    "    if is_prime:\n",
    "        prime_list.append(i)\n",
    "        print(f\"{i} is a prime number!\")\n",
    "    else:\n",
    "        print(f\"{i} is not a prime number!\")\n",
    "\n",
    "print(f\"{prime_list=}\")"
   ],
   "metadata": {
    "collapsed": false,
    "pycharm": {
     "name": "#%%\n"
    }
   }
  },
  {
   "cell_type": "code",
   "execution_count": 9,
   "outputs": [
    {
     "name": "stdout",
     "output_type": "stream",
     "text": [
      "2 is a prime number!\n",
      "3 is a prime number!\n",
      "4 is a prime number!\n",
      "5 is a prime number!\n",
      "6 is not a prime number!\n",
      "7 is a prime number!\n",
      "8 is not a prime number!\n",
      "9 is not a prime number!\n",
      "prime_list=[2, 3, 4, 5, 7]\n"
     ]
    }
   ],
   "source": [
    "# check that 'i' is a prime number or not with the 'else' statement\n",
    "prime_list = []\n",
    "for i in range(2, 10):\n",
    "    n = 2\n",
    "    while n < i//2:\n",
    "        if (i % n) == 0:\n",
    "            print(f\"{i} is not a prime number!\")\n",
    "            break\n",
    "        n += 1\n",
    "    else:\n",
    "        prime_list.append(i)\n",
    "        print(f\"{i} is a prime number!\")\n",
    "\n",
    "print(f\"{prime_list=}\")"
   ],
   "metadata": {
    "collapsed": false,
    "pycharm": {
     "name": "#%%\n"
    }
   }
  },
  {
   "cell_type": "code",
   "execution_count": null,
   "outputs": [],
   "source": [],
   "metadata": {
    "collapsed": false,
    "pycharm": {
     "name": "#%%\n"
    }
   }
  },
  {
   "cell_type": "code",
   "execution_count": null,
   "outputs": [],
   "source": [],
   "metadata": {
    "collapsed": false,
    "pycharm": {
     "name": "#%%\n"
    }
   }
  }
 ],
 "metadata": {
  "kernelspec": {
   "display_name": "Python 3",
   "language": "python",
   "name": "python3"
  },
  "language_info": {
   "codemirror_mode": {
    "name": "ipython",
    "version": 2
   },
   "file_extension": ".py",
   "mimetype": "text/x-python",
   "name": "python",
   "nbconvert_exporter": "python",
   "pygments_lexer": "ipython2",
   "version": "2.7.6"
  }
 },
 "nbformat": 4,
 "nbformat_minor": 0
}