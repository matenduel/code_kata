{
 "cells": [
  {
   "cell_type": "code",
   "execution_count": 2,
   "metadata": {
    "collapsed": true
   },
   "outputs": [],
   "source": [
    "\"\"\"\n",
    "Problem03: Append the data if file exists, if not create the file\n",
    "\n",
    "Step\n",
    "1. Get Credential from mariadb.ini file by using ConfigParser\n",
    "    1.1 mongodb.ini located in files directory\n",
    "2. Connect to MongoDB\n",
    "3. Execute the query with For loop or While loop\n",
    "    3.1 Get goods_no and ObjectId_list of duplicate data from terminated\n",
    "    3.2 To reduce the database load, set the goods_no range\n",
    "    3.3 Repeat the query to check all goods_no\n",
    "    3.4 close the connection\n",
    "4. Transform the data\n",
    "    4.1 transform the element ObjectId_list to str\n",
    "    4.2 join the list with bar(\"|\")\n",
    "5. Save the return data as CSV file with column name\n",
    "    5.1 Check that file exists in \"result\" directory\n",
    "    5.2 If not exists, create file with name format = \"%Y-%m-%d result.csv\"\n",
    "    5.3 If exists, append the data\n",
    "\"\"\"\n",
    "import csv\n",
    "import os\n",
    "from configparser import ConfigParser\n",
    "from datetime import datetime\n",
    "\n",
    "from memory_profiler import profile\n",
    "from pymongo import MongoClient"
   ]
  },
  {
   "cell_type": "code",
   "execution_count": null,
   "outputs": [],
   "source": [
    "# Step 1: Get Credential from mariadb.ini file by using ConfigParser\n",
    "ini_file = \"files/mariadb.ini\""
   ],
   "metadata": {
    "collapsed": false,
    "pycharm": {
     "name": "#%%\n"
    }
   }
  },
  {
   "cell_type": "code",
   "execution_count": null,
   "outputs": [],
   "source": [],
   "metadata": {
    "collapsed": false,
    "pycharm": {
     "name": "#%%\n"
    }
   }
  },
  {
   "cell_type": "code",
   "execution_count": null,
   "outputs": [],
   "source": [
    "# Step 2: Connect to MongoDB"
   ],
   "metadata": {
    "collapsed": false,
    "pycharm": {
     "name": "#%%\n"
    }
   }
  },
  {
   "cell_type": "code",
   "execution_count": null,
   "outputs": [],
   "source": [],
   "metadata": {
    "collapsed": false,
    "pycharm": {
     "name": "#%%\n"
    }
   }
  },
  {
   "cell_type": "code",
   "execution_count": null,
   "outputs": [],
   "source": [
    "# Step 3: Execute the query"
   ],
   "metadata": {
    "collapsed": false,
    "pycharm": {
     "name": "#%%\n"
    }
   }
  },
  {
   "cell_type": "code",
   "execution_count": null,
   "outputs": [],
   "source": [],
   "metadata": {
    "collapsed": false,
    "pycharm": {
     "name": "#%%\n"
    }
   }
  },
  {
   "cell_type": "code",
   "execution_count": null,
   "outputs": [],
   "source": [
    "# Step 4: Transform the data"
   ],
   "metadata": {
    "collapsed": false,
    "pycharm": {
     "name": "#%%\n"
    }
   }
  },
  {
   "cell_type": "code",
   "execution_count": null,
   "outputs": [],
   "source": [],
   "metadata": {
    "collapsed": false,
    "pycharm": {
     "name": "#%%\n"
    }
   }
  },
  {
   "cell_type": "code",
   "execution_count": null,
   "outputs": [],
   "source": [
    "# Step 5: Save the return data as CSV file with column name"
   ],
   "metadata": {
    "collapsed": false,
    "pycharm": {
     "name": "#%%\n"
    }
   }
  }
 ],
 "metadata": {
  "kernelspec": {
   "display_name": "Python 3",
   "language": "python",
   "name": "python3"
  },
  "language_info": {
   "codemirror_mode": {
    "name": "ipython",
    "version": 2
   },
   "file_extension": ".py",
   "mimetype": "text/x-python",
   "name": "python",
   "nbconvert_exporter": "python",
   "pygments_lexer": "ipython2",
   "version": "2.7.6"
  }
 },
 "nbformat": 4,
 "nbformat_minor": 0
}