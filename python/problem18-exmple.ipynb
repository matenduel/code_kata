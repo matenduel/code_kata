{
 "cells": [
  {
   "cell_type": "markdown",
   "source": [
    "### Problem18: How to use * and **"
   ],
   "metadata": {
    "collapsed": false,
    "pycharm": {
     "name": "#%% md\n"
    }
   }
  },
  {
   "cell_type": "markdown",
   "source": [
    "#### How to use *\n",
    "##### Step 1: Make same list"
   ],
   "metadata": {
    "collapsed": false,
    "pycharm": {
     "name": "#%% md\n"
    }
   }
  },
  {
   "cell_type": "code",
   "execution_count": 21,
   "outputs": [],
   "source": [
    "# Sample list\n",
    "sample_list = [1, 2, 3, 4, 5]\n",
    "original_id = id(sample_list)"
   ],
   "metadata": {
    "collapsed": false,
    "pycharm": {
     "name": "#%%\n"
    }
   }
  },
  {
   "cell_type": "code",
   "execution_count": 22,
   "outputs": [
    {
     "name": "stdout",
     "output_type": "stream",
     "text": [
      "[1, 2, 3, 4, 5]\n",
      "Same list BUT Different Object \n"
     ]
    }
   ],
   "source": [
    "# Make New list with star\n",
    "new_list_with_star = [*sample_list]\n",
    "print(new_list_with_star)\n",
    "if id(new_list_with_star) == original_id:\n",
    "    print(\"Same list and Same Object\")\n",
    "else:\n",
    "    print(\"Same list BUT Different Object \")"
   ],
   "metadata": {
    "collapsed": false,
    "pycharm": {
     "name": "#%%\n"
    }
   }
  },
  {
   "cell_type": "code",
   "execution_count": 26,
   "outputs": [
    {
     "name": "stdout",
     "output_type": "stream",
     "text": [
      "[1, 2, 3, 4, 5]\n",
      "Same list BUT Different Object \n"
     ]
    }
   ],
   "source": [
    "# Make New list with double colon\n",
    "new_list_with_double_colon = sample_list[::]\n",
    "print(new_list_with_double_colon)\n",
    "if id(new_list_with_double_colon) == original_id:\n",
    "    print(\"Same list and Same Object\")\n",
    "else:\n",
    "    print(\"Same list BUT Different Object \")"
   ],
   "metadata": {
    "collapsed": false,
    "pycharm": {
     "name": "#%%\n"
    }
   }
  },
  {
   "cell_type": "markdown",
   "source": [
    "#### Caution!!! Make new list with star or colon(slice) is not a deepcopy of original object"
   ],
   "metadata": {
    "collapsed": false,
    "pycharm": {
     "name": "#%% md\n"
    }
   }
  },
  {
   "cell_type": "code",
   "execution_count": 27,
   "outputs": [
    {
     "name": "stdout",
     "output_type": "stream",
     "text": [
      "sample_list=[{'name': 'sample'}, 1, 2, 3], original_id=2154082259264, internal_object_id=2154082270144\n"
     ]
    }
   ],
   "source": [
    "sample_list = [{\"name\": \"sample\"}, 1, 2, 3]\n",
    "original_id = id(sample_list)\n",
    "internal_object_id = id(sample_list[0])\n",
    "print(f\"{sample_list=}, {original_id=}, {internal_object_id=}\")"
   ],
   "metadata": {
    "collapsed": false,
    "pycharm": {
     "name": "#%%\n"
    }
   }
  },
  {
   "cell_type": "code",
   "execution_count": 30,
   "outputs": [
    {
     "name": "stdout",
     "output_type": "stream",
     "text": [
      "[{'name': 'sample'}, 1, 2, 3]\n",
      "Same value and Same Object\n"
     ]
    }
   ],
   "source": [
    "new_list_with_star = [*sample_list]\n",
    "print(new_list_with_star)\n",
    "if id(new_list_with_star[0]) == internal_object_id:\n",
    "    print(\"Same value and Same Object\")\n",
    "else:\n",
    "    print(\"Same value BUT Different Object \")"
   ],
   "metadata": {
    "collapsed": false,
    "pycharm": {
     "name": "#%%\n"
    }
   }
  },
  {
   "cell_type": "code",
   "execution_count": 31,
   "outputs": [
    {
     "name": "stdout",
     "output_type": "stream",
     "text": [
      "[{'name': 'sample'}, 1, 2, 3]\n",
      "Same value and Same Object\n"
     ]
    }
   ],
   "source": [
    "new_list_with_double_colon = sample_list[::]\n",
    "print(new_list_with_double_colon)\n",
    "if id(new_list_with_star[0]) == internal_object_id:\n",
    "    print(\"Same value and Same Object\")\n",
    "else:\n",
    "    print(\"Same value BUT Different Object \")"
   ],
   "metadata": {
    "collapsed": false,
    "pycharm": {
     "name": "#%%\n"
    }
   }
  },
  {
   "cell_type": "code",
   "execution_count": 53,
   "outputs": [
    {
     "name": "stdout",
     "output_type": "stream",
     "text": [
      "{'name': 'sample', 'city': 'seoul'}\n",
      "{'name': 'sample', 'city': 'seoul'}\n",
      "{'name': 'sample', 'city': 'seoul'}\n"
     ]
    }
   ],
   "source": [
    "# Change value\n",
    "sample_list[0][\"city\"] = \"seoul\"\n",
    "print(sample_list[0])\n",
    "print(new_list_with_star[0])\n",
    "print(new_list_with_double_colon[0])"
   ],
   "metadata": {
    "collapsed": false,
    "pycharm": {
     "name": "#%%\n"
    }
   }
  },
  {
   "cell_type": "markdown",
   "source": [
    "##### Step 2: Merge List"
   ],
   "metadata": {
    "collapsed": false,
    "pycharm": {
     "name": "#%% md\n"
    }
   }
  },
  {
   "cell_type": "code",
   "execution_count": 44,
   "outputs": [
    {
     "name": "stdout",
     "output_type": "stream",
     "text": [
      "['list', 1, 2, 10]\n"
     ]
    }
   ],
   "source": [
    "# Merge list\n",
    "list_a = [1, 2, 10]\n",
    "\n",
    "print([\"list\", *list_a])"
   ],
   "metadata": {
    "collapsed": false,
    "pycharm": {
     "name": "#%%\n"
    }
   }
  },
  {
   "cell_type": "code",
   "execution_count": 45,
   "outputs": [
    {
     "name": "stdout",
     "output_type": "stream",
     "text": [
      "[1, 2, 10, 'merge', 3, 5, 15]\n"
     ]
    }
   ],
   "source": [
    "list_b = [3, 5, 15]\n",
    "\n",
    "merged_list = [*list_a, \"merge\", *list_b]\n",
    "print(merged_list)"
   ],
   "metadata": {
    "collapsed": false,
    "pycharm": {
     "name": "#%%\n"
    }
   }
  },
  {
   "cell_type": "markdown",
   "source": [
    "##### Step 3: Pass the element of list or tuple as a parameter"
   ],
   "metadata": {
    "collapsed": false,
    "pycharm": {
     "name": "#%% md\n"
    }
   }
  },
  {
   "cell_type": "code",
   "execution_count": 37,
   "outputs": [],
   "source": [
    "def print_info(name: str, company: str, age: int = 30):\n",
    "    print(f\"{name=}, {company=}, {age=}\")\n",
    "\n",
    "def print_info_with_args(name: str, company: str, age: int = 30, *args):\n",
    "    print(f\"{name=}, {company=}, {age=}\")\n",
    "    print(f\"extra arguments = {args}\")"
   ],
   "metadata": {
    "collapsed": false,
    "pycharm": {
     "name": "#%%\n"
    }
   }
  },
  {
   "cell_type": "code",
   "execution_count": 38,
   "outputs": [
    {
     "name": "stdout",
     "output_type": "stream",
     "text": [
      "name='minil', company='AWS', age=28\n"
     ]
    }
   ],
   "source": [
    "user_info = [\"minil\", \"AWS\", 28]\n",
    "print_info(*user_info)"
   ],
   "metadata": {
    "collapsed": false,
    "pycharm": {
     "name": "#%%\n"
    }
   }
  },
  {
   "cell_type": "code",
   "execution_count": 80,
   "outputs": [
    {
     "name": "stdout",
     "output_type": "stream",
     "text": [
      "name='AWS', company='minil', age=28\n"
     ]
    }
   ],
   "source": [
    "# Each element should be in right position\n",
    "user_info = [\"AWS\", \"minil\", 28]\n",
    "print_info(*user_info)"
   ],
   "metadata": {
    "collapsed": false,
    "pycharm": {
     "name": "#%%\n"
    }
   }
  },
  {
   "cell_type": "code",
   "execution_count": 46,
   "outputs": [
    {
     "name": "stdout",
     "output_type": "stream",
     "text": [
      "Error occur!!\n",
      "detail: print_info() takes from 2 to 3 positional arguments but 4 were given\n",
      "\n",
      "name='minor', company='AWS', age=28\n",
      "extra arguments = ('Single',)\n"
     ]
    }
   ],
   "source": [
    "user_info = [\"minor\", \"AWS\", 28, \"Single\"]\n",
    "try:\n",
    "    print_info(*user_info)\n",
    "except TypeError as e:\n",
    "    print(f\"Error occur!!\\ndetail: {str(e)}\\n\")\n",
    "print_info_with_args(*user_info)"
   ],
   "metadata": {
    "collapsed": false,
    "pycharm": {
     "name": "#%%\n"
    }
   }
  },
  {
   "cell_type": "markdown",
   "source": [
    "#### How to use **\n",
    "##### Step 4: Make same dict"
   ],
   "metadata": {
    "collapsed": false,
    "pycharm": {
     "name": "#%% md\n"
    }
   }
  },
  {
   "cell_type": "code",
   "execution_count": null,
   "outputs": [],
   "source": [
    "# Sample dict\n",
    "sample_dict = {\"name\": \"employee\", \"company\": \"Microsoft\"}\n",
    "original_id = id(sample_dict)"
   ],
   "metadata": {
    "collapsed": false,
    "pycharm": {
     "name": "#%%\n"
    }
   }
  },
  {
   "cell_type": "code",
   "execution_count": 48,
   "outputs": [
    {
     "name": "stdout",
     "output_type": "stream",
     "text": [
      "{'name': 'employee', 'company': 'Microsoft'}\n",
      "Same dict BUT Different Object \n"
     ]
    }
   ],
   "source": [
    "# Make New dict with star\n",
    "new_dict_with_star = {**sample_dict}\n",
    "print(new_dict_with_star)\n",
    "if id(new_dict_with_star) == original_id:\n",
    "    print(\"Same dict and Same Object\")\n",
    "else:\n",
    "    print(\"Same dict BUT Different Object \")"
   ],
   "metadata": {
    "collapsed": false,
    "pycharm": {
     "name": "#%%\n"
    }
   }
  },
  {
   "cell_type": "markdown",
   "source": [
    "#### Caution!!! Make new dict with double star is not a deepcopy of original object"
   ],
   "metadata": {
    "collapsed": false,
    "pycharm": {
     "name": "#%% md\n"
    }
   }
  },
  {
   "cell_type": "code",
   "execution_count": 51,
   "outputs": [
    {
     "name": "stdout",
     "output_type": "stream",
     "text": [
      "sample_dict={'name': 'employee', 'company': 'Microsoft', 'extra': {'address': 'seoul'}}\n",
      "original_id=2154081858240, internal_object_id=2154081850688\n"
     ]
    }
   ],
   "source": [
    "sample_dict = {\"name\": \"employee\", \"company\": \"Microsoft\", \"extra\": {\"address\": \"seoul\"}}\n",
    "original_id = id(sample_dict)\n",
    "internal_object_id = id(sample_dict[\"extra\"])\n",
    "print(f\"{sample_dict=}\")\n",
    "print(f\"{original_id=}, {internal_object_id=}\")"
   ],
   "metadata": {
    "collapsed": false,
    "pycharm": {
     "name": "#%%\n"
    }
   }
  },
  {
   "cell_type": "code",
   "execution_count": 52,
   "outputs": [
    {
     "name": "stdout",
     "output_type": "stream",
     "text": [
      "{'name': 'employee', 'company': 'Microsoft', 'extra': {'address': 'seoul'}}\n",
      "Same dict and Same Object\n"
     ]
    }
   ],
   "source": [
    "# Make New dict with star\n",
    "new_dict_with_star = {**sample_dict}\n",
    "print(new_dict_with_star)\n",
    "if id(new_dict_with_star[\"extra\"]) == internal_object_id:\n",
    "    print(\"Same dict and Same Object\")\n",
    "else:\n",
    "    print(\"Same dict BUT Different Object \")"
   ],
   "metadata": {
    "collapsed": false,
    "pycharm": {
     "name": "#%%\n"
    }
   }
  },
  {
   "cell_type": "code",
   "execution_count": 54,
   "outputs": [
    {
     "name": "stdout",
     "output_type": "stream",
     "text": [
      "{'address': 'seoul', 'country': 'Korea'}\n",
      "{'address': 'seoul', 'country': 'Korea'}\n"
     ]
    }
   ],
   "source": [
    "# Change value\n",
    "sample_dict[\"extra\"][\"country\"] = \"Korea\"\n",
    "print(sample_dict[\"extra\"])\n",
    "print(new_dict_with_star[\"extra\"])"
   ],
   "metadata": {
    "collapsed": false,
    "pycharm": {
     "name": "#%%\n"
    }
   }
  },
  {
   "cell_type": "markdown",
   "source": [
    "##### Step 5: Update & Merge dictionary"
   ],
   "metadata": {
    "collapsed": false,
    "pycharm": {
     "name": "#%% md\n"
    }
   }
  },
  {
   "cell_type": "code",
   "execution_count": 58,
   "outputs": [
    {
     "name": "stdout",
     "output_type": "stream",
     "text": [
      "{'age': 40, 'name': 'employee', 'company': 'Microsoft', 'extra': {'address': 'seoul', 'country': 'Korea'}}\n",
      "True\n"
     ]
    }
   ],
   "source": [
    "# merge dict\n",
    "print({\"age\": 40, **sample_dict})\n",
    "\n",
    "more_info = {\"age\": 40}\n",
    "more_info.update(sample_dict)\n",
    "print(more_info == {\"age\": 40, **sample_dict})"
   ],
   "metadata": {
    "collapsed": false,
    "pycharm": {
     "name": "#%%\n"
    }
   }
  },
  {
   "cell_type": "markdown",
   "source": [
    "#### Caution!! if more than two dictionary have same key, then the last value will be set!"
   ],
   "metadata": {
    "collapsed": false,
    "pycharm": {
     "name": "#%% md\n"
    }
   }
  },
  {
   "cell_type": "code",
   "execution_count": 73,
   "outputs": [
    {
     "name": "stdout",
     "output_type": "stream",
     "text": [
      "{'age': 27, 'name': 'employee', 'company': 'Microsoft', 'gender': 'male'}\n",
      "age = 27\n"
     ]
    }
   ],
   "source": [
    "sample_dict = {\"name\": \"employee\", \"company\": \"Microsoft\", \"age\": 30}\n",
    "another_info = {\"age\": 27, \"gender\": \"male\"}\n",
    "merged_dict = {\"age\": 20, **sample_dict, **another_info}\n",
    "print(merged_dict)\n",
    "print(f\"age = {merged_dict['age']}\")"
   ],
   "metadata": {
    "collapsed": false,
    "pycharm": {
     "name": "#%%\n"
    }
   }
  },
  {
   "cell_type": "code",
   "execution_count": 74,
   "outputs": [
    {
     "name": "stdout",
     "output_type": "stream",
     "text": [
      "False\n",
      "age = 30\n"
     ]
    }
   ],
   "source": [
    "merged_dict2 = {\"age\": 20, **another_info, **sample_dict}\n",
    "print(merged_dict == merged_dict2)\n",
    "print(f\"age = {merged_dict2['age']}\")"
   ],
   "metadata": {
    "collapsed": false,
    "pycharm": {
     "name": "#%%\n"
    }
   }
  },
  {
   "cell_type": "code",
   "execution_count": 75,
   "outputs": [
    {
     "name": "stdout",
     "output_type": "stream",
     "text": [
      "False\n",
      "age = 20\n"
     ]
    }
   ],
   "source": [
    "merged_dict3 = {**another_info, **sample_dict, \"age\": 20}\n",
    "print(merged_dict == merged_dict3)\n",
    "print(f\"age = {merged_dict3['age']}\")"
   ],
   "metadata": {
    "collapsed": false,
    "pycharm": {
     "name": "#%%\n"
    }
   }
  },
  {
   "cell_type": "markdown",
   "source": [
    "##### Step 6: Pass the element of dict as a named parameter"
   ],
   "metadata": {
    "collapsed": false,
    "pycharm": {
     "name": "#%% md\n"
    }
   }
  },
  {
   "cell_type": "code",
   "execution_count": 76,
   "outputs": [],
   "source": [
    "def print_info_with_kwargs(name: str, company: str, age: int = 30, **kwargs):\n",
    "    print(f\"{name=}, {company=}, {age=}\")\n",
    "    print(f\"extra keyword arguments = {kwargs}\")"
   ],
   "metadata": {
    "collapsed": false,
    "pycharm": {
     "name": "#%%\n"
    }
   }
  },
  {
   "cell_type": "code",
   "execution_count": 87,
   "outputs": [
    {
     "name": "stdout",
     "output_type": "stream",
     "text": [
      "name='employee', company='Microsoft', age=30\n",
      "extra keyword arguments = {'first_name': 'The'}\n"
     ]
    }
   ],
   "source": [
    "sample_dict = {\"company\": \"Microsoft\", \"name\": \"employee\", \"first_name\": \"The\"}\n",
    "print_info_with_kwargs(**sample_dict)"
   ],
   "metadata": {
    "collapsed": false,
    "pycharm": {
     "name": "#%%\n"
    }
   }
  },
  {
   "cell_type": "code",
   "execution_count": 88,
   "outputs": [
    {
     "ename": "TypeError",
     "evalue": "print_info_with_kwargs() missing 1 required positional argument: 'company'",
     "output_type": "error",
     "traceback": [
      "\u001B[1;31m---------------------------------------------------------------------------\u001B[0m",
      "\u001B[1;31mTypeError\u001B[0m                                 Traceback (most recent call last)",
      "Input \u001B[1;32mIn [88]\u001B[0m, in \u001B[0;36m<cell line: 2>\u001B[1;34m()\u001B[0m\n\u001B[0;32m      1\u001B[0m sample_dict \u001B[38;5;241m=\u001B[39m {\u001B[38;5;124m\"\u001B[39m\u001B[38;5;124mname\u001B[39m\u001B[38;5;124m\"\u001B[39m: \u001B[38;5;124m\"\u001B[39m\u001B[38;5;124mmark\u001B[39m\u001B[38;5;124m\"\u001B[39m, \u001B[38;5;124m\"\u001B[39m\u001B[38;5;124mage\u001B[39m\u001B[38;5;124m\"\u001B[39m: \u001B[38;5;241m20\u001B[39m}\n\u001B[1;32m----> 2\u001B[0m print_info_with_kwargs(\u001B[38;5;241m*\u001B[39m\u001B[38;5;241m*\u001B[39msample_dict)\n",
      "\u001B[1;31mTypeError\u001B[0m: print_info_with_kwargs() missing 1 required positional argument: 'company'"
     ]
    }
   ],
   "source": [
    "sample_dict = {\"name\": \"mark\", \"age\": 20}\n",
    "print_info_with_kwargs(**sample_dict)"
   ],
   "metadata": {
    "collapsed": false,
    "pycharm": {
     "name": "#%%\n"
    }
   }
  },
  {
   "cell_type": "code",
   "execution_count": 90,
   "outputs": [
    {
     "name": "stdout",
     "output_type": "stream",
     "text": [
      "name='mark', company='Google', age=20\n",
      "extra keyword arguments = {'last_name': 'Worker'}\n",
      "name='mark', company='Google', age=20\n",
      "extra keyword arguments = {'last_name': 'Worker'}\n",
      "name='mark', company='Google', age=20\n",
      "extra keyword arguments = {'last_name': 'Worker'}\n"
     ]
    }
   ],
   "source": [
    "sample_dict = {\"name\": \"mark\", \"age\": 20}\n",
    "print_info_with_kwargs(company=\"Google\", **sample_dict, last_name=\"Worker\")\n",
    "print_info_with_kwargs(company=\"Google\", last_name=\"Worker\", **sample_dict)\n",
    "print_info_with_kwargs(**sample_dict, company=\"Google\", last_name=\"Worker\")"
   ],
   "metadata": {
    "collapsed": false,
    "pycharm": {
     "name": "#%%\n"
    }
   }
  },
  {
   "cell_type": "code",
   "execution_count": 91,
   "outputs": [
    {
     "ename": "TypeError",
     "evalue": "__main__.print_info_with_kwargs() got multiple values for keyword argument 'age'",
     "output_type": "error",
     "traceback": [
      "\u001B[1;31m---------------------------------------------------------------------------\u001B[0m",
      "\u001B[1;31mTypeError\u001B[0m                                 Traceback (most recent call last)",
      "Input \u001B[1;32mIn [91]\u001B[0m, in \u001B[0;36m<cell line: 3>\u001B[1;34m()\u001B[0m\n\u001B[0;32m      1\u001B[0m \u001B[38;5;66;03m# Careful when pass the parameter with **\u001B[39;00m\n\u001B[0;32m      2\u001B[0m sample_dict \u001B[38;5;241m=\u001B[39m {\u001B[38;5;124m\"\u001B[39m\u001B[38;5;124mname\u001B[39m\u001B[38;5;124m\"\u001B[39m: \u001B[38;5;124m\"\u001B[39m\u001B[38;5;124mmark\u001B[39m\u001B[38;5;124m\"\u001B[39m, \u001B[38;5;124m\"\u001B[39m\u001B[38;5;124mage\u001B[39m\u001B[38;5;124m\"\u001B[39m: \u001B[38;5;241m20\u001B[39m}\n\u001B[1;32m----> 3\u001B[0m print_info_with_kwargs(company\u001B[38;5;241m=\u001B[39m\u001B[38;5;124m\"\u001B[39m\u001B[38;5;124mGoogle\u001B[39m\u001B[38;5;124m\"\u001B[39m, age\u001B[38;5;241m=\u001B[39m\u001B[38;5;241m30\u001B[39m, \u001B[38;5;241m*\u001B[39m\u001B[38;5;241m*\u001B[39msample_dict)\n",
      "\u001B[1;31mTypeError\u001B[0m: __main__.print_info_with_kwargs() got multiple values for keyword argument 'age'"
     ]
    }
   ],
   "source": [
    "# Careful when pass the parameter with **\n",
    "sample_dict = {\"name\": \"mark\", \"age\": 20}\n",
    "print_info_with_kwargs(company=\"Google\", age=30, **sample_dict)"
   ],
   "metadata": {
    "collapsed": false,
    "pycharm": {
     "name": "#%%\n"
    }
   }
  },
  {
   "cell_type": "code",
   "execution_count": null,
   "outputs": [],
   "source": [],
   "metadata": {
    "collapsed": false,
    "pycharm": {
     "name": "#%%\n"
    }
   }
  },
  {
   "cell_type": "code",
   "execution_count": null,
   "outputs": [],
   "source": [],
   "metadata": {
    "collapsed": false,
    "pycharm": {
     "name": "#%%\n"
    }
   }
  }
 ],
 "metadata": {
  "kernelspec": {
   "display_name": "Python 3",
   "language": "python",
   "name": "python3"
  },
  "language_info": {
   "codemirror_mode": {
    "name": "ipython",
    "version": 2
   },
   "file_extension": ".py",
   "mimetype": "text/x-python",
   "name": "python",
   "nbconvert_exporter": "python",
   "pygments_lexer": "ipython2",
   "version": "2.7.6"
  }
 },
 "nbformat": 4,
 "nbformat_minor": 0
}