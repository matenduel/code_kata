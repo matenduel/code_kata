{
 "cells": [
  {
   "cell_type": "markdown",
   "source": [
    "### Problem08: Convert Naive Datetime to Aware Datetime"
   ],
   "metadata": {
    "collapsed": false,
    "pycharm": {
     "name": "#%% md\n"
    }
   }
  },
  {
   "cell_type": "code",
   "execution_count": 1,
   "outputs": [],
   "source": [
    "from datetime import datetime, timezone, timedelta"
   ],
   "metadata": {
    "collapsed": false,
    "pycharm": {
     "name": "#%%\n"
    }
   }
  },
  {
   "cell_type": "code",
   "execution_count": 3,
   "outputs": [],
   "source": [
    "# KST timezone\n",
    "KST = timezone(timedelta(hours=9))\n",
    "\n",
    "# Aware datetime = contain timezone info\n",
    "utc_datetime = datetime(year=2022, month=4, day=10, hour=19, tzinfo=timezone.utc)\n",
    "kst_datetime = datetime(year=2022, month=4, day=11, hour=4, tzinfo=KST)\n",
    "\n",
    "# Naive datetime = No timezone info\n",
    "datetime_without_tz = datetime.now()"
   ],
   "metadata": {
    "collapsed": false,
    "pycharm": {
     "name": "#%%\n"
    }
   }
  },
  {
   "cell_type": "markdown",
   "source": [
    "##### Step 1: Print the date(format: %Y-%m-%d) of datetime\n",
    "* ###### utc_datetime\n",
    "* ###### kst_datetime\n",
    "* ###### datetime_without_tz"
   ],
   "metadata": {
    "collapsed": false,
    "pycharm": {
     "name": "#%% md\n"
    }
   }
  },
  {
   "cell_type": "code",
   "execution_count": 2,
   "outputs": [],
   "source": [
    "# Aware\n",
    "print(\"utc_datetime: \", )\n",
    "print(\"kst_datetime: \", )\n",
    "# Naive\n",
    "print(\"datetime_without_tz: \", )"
   ],
   "metadata": {
    "collapsed": false,
    "pycharm": {
     "name": "#%%\n"
    }
   }
  },
  {
   "cell_type": "markdown",
   "source": [
    "##### Step 2: Calculate the time difference between utc_datetime and kst_datetime"
   ],
   "metadata": {
    "collapsed": false,
    "pycharm": {
     "name": "#%% md\n"
    }
   }
  },
  {
   "cell_type": "code",
   "execution_count": null,
   "outputs": [],
   "source": [
    "print(\"time difference: \", )"
   ],
   "metadata": {
    "collapsed": false,
    "pycharm": {
     "name": "#%%\n"
    }
   }
  },
  {
   "cell_type": "markdown",
   "source": [
    "##### Step 3: Compare the utc_datetime and kst_datetime\n",
    "* ###### Use >, ==, <"
   ],
   "metadata": {
    "collapsed": false,
    "pycharm": {
     "name": "#%% md\n"
    }
   }
  },
  {
   "cell_type": "code",
   "execution_count": 2,
   "outputs": [
    {
     "ename": "NameError",
     "evalue": "name 'utc_datetime' is not defined",
     "output_type": "error",
     "traceback": [
      "\u001B[1;31m---------------------------------------------------------------------------\u001B[0m",
      "\u001B[1;31mNameError\u001B[0m                                 Traceback (most recent call last)",
      "Input \u001B[1;32mIn [2]\u001B[0m, in \u001B[0;36m<cell line: 1>\u001B[1;34m()\u001B[0m\n\u001B[1;32m----> 1\u001B[0m \u001B[38;5;28mprint\u001B[39m(\u001B[43mutc_datetime\u001B[49m \u001B[38;5;241m>\u001B[39m kst_datetime)\n\u001B[0;32m      2\u001B[0m \u001B[38;5;28mprint\u001B[39m(utc_datetime \u001B[38;5;241m<\u001B[39m kst_datetime)\n\u001B[0;32m      3\u001B[0m \u001B[38;5;28mprint\u001B[39m(utc_datetime \u001B[38;5;241m==\u001B[39m kst_datetime)\n",
      "\u001B[1;31mNameError\u001B[0m: name 'utc_datetime' is not defined"
     ]
    }
   ],
   "source": [
    "print(\"gt\", utc_datetime > kst_datetime)\n",
    "print(\"lt\", utc_datetime < kst_datetime)\n",
    "print(\"eq\", utc_datetime == kst_datetime)"
   ],
   "metadata": {
    "collapsed": false,
    "pycharm": {
     "name": "#%%\n"
    }
   }
  },
  {
   "cell_type": "markdown",
   "source": [
    "##### Step 4: Compare the utc_datetime and datetime_without_tz"
   ],
   "metadata": {
    "collapsed": false,
    "pycharm": {
     "name": "#%% md\n"
    }
   }
  },
  {
   "cell_type": "code",
   "execution_count": null,
   "outputs": [],
   "source": [
    "try:\n",
    "    print(utc_datetime == datetime_without_tz)\n",
    "except TypeError as e:\n",
    "    print(\"Error Occur!!!!\")\n",
    "    print(\"Can't compare the aware and naive\")\n",
    "    print(e)"
   ],
   "metadata": {
    "collapsed": false,
    "pycharm": {
     "name": "#%%\n"
    }
   }
  },
  {
   "cell_type": "markdown",
   "source": [
    "##### Step 5: Convert Naive_datetime(datetime_without_tz) to Aware_datetime"
   ],
   "metadata": {
    "collapsed": false,
    "pycharm": {
     "name": "#%% md\n"
    }
   }
  },
  {
   "cell_type": "code",
   "execution_count": 3,
   "outputs": [
    {
     "ename": "NameError",
     "evalue": "name 'datetime_without_tz' is not defined",
     "output_type": "error",
     "traceback": [
      "\u001B[1;31m---------------------------------------------------------------------------\u001B[0m",
      "\u001B[1;31mNameError\u001B[0m                                 Traceback (most recent call last)",
      "Input \u001B[1;32mIn [3]\u001B[0m, in \u001B[0;36m<cell line: 1>\u001B[1;34m()\u001B[0m\n\u001B[1;32m----> 1\u001B[0m datetime_with_kst \u001B[38;5;241m=\u001B[39m \u001B[43mdatetime_without_tz\u001B[49m\u001B[38;5;241m.\u001B[39mreplace(tzinfo\u001B[38;5;241m=\u001B[39mKST)\n\u001B[0;32m      2\u001B[0m \u001B[38;5;28mprint\u001B[39m(\u001B[38;5;124m\"\u001B[39m\u001B[38;5;124mbefore: \u001B[39m\u001B[38;5;124m\"\u001B[39m, datetime_without_tz)\n\u001B[0;32m      3\u001B[0m \u001B[38;5;28mprint\u001B[39m(\u001B[38;5;124m\"\u001B[39m\u001B[38;5;124mafter: \u001B[39m\u001B[38;5;124m\"\u001B[39m, datetime_with_kst)\n",
      "\u001B[1;31mNameError\u001B[0m: name 'datetime_without_tz' is not defined"
     ]
    }
   ],
   "source": [
    "datetime_with_kst = \"\"\n",
    "print(\"before: \", )\n",
    "print(\"after: \", )"
   ],
   "metadata": {
    "collapsed": false,
    "pycharm": {
     "name": "#%%\n"
    }
   }
  },
  {
   "cell_type": "markdown",
   "source": [
    "##### Step 6: Get KST Date from utc_datetime"
   ],
   "metadata": {
    "collapsed": false,
    "pycharm": {
     "name": "#%% md\n"
    }
   }
  },
  {
   "cell_type": "code",
   "execution_count": null,
   "outputs": [],
   "source": [
    "print(\"KST date from utc_datetime\", )"
   ],
   "metadata": {
    "collapsed": false,
    "pycharm": {
     "name": "#%%\n"
    }
   }
  }
 ],
 "metadata": {
  "kernelspec": {
   "display_name": "Python 3",
   "language": "python",
   "name": "python3"
  },
  "language_info": {
   "codemirror_mode": {
    "name": "ipython",
    "version": 2
   },
   "file_extension": ".py",
   "mimetype": "text/x-python",
   "name": "python",
   "nbconvert_exporter": "python",
   "pygments_lexer": "ipython2",
   "version": "2.7.6"
  }
 },
 "nbformat": 4,
 "nbformat_minor": 0
}