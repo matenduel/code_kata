{
 "cells": [
  {
   "cell_type": "markdown",
   "source": [
    "### Problem14: pandas apply with lambda"
   ],
   "metadata": {
    "collapsed": false,
    "pycharm": {
     "name": "#%% md\n"
    }
   }
  },
  {
   "cell_type": "code",
   "execution_count": 5,
   "outputs": [],
   "source": [
    "import datetime\n",
    "\n",
    "import pandas as pd"
   ],
   "metadata": {
    "collapsed": false,
    "pycharm": {
     "name": "#%%\n"
    }
   }
  },
  {
   "cell_type": "code",
   "execution_count": 6,
   "outputs": [],
   "source": [
    "df = pd.read_csv('data/order_list_with_dup.csv')"
   ],
   "metadata": {
    "collapsed": false,
    "pycharm": {
     "name": "#%%\n"
    }
   }
  },
  {
   "cell_type": "markdown",
   "source": [
    "##### Step 1: Make function that calculate the discount\n",
    "* ###### Function arguments are order_date(datetime.date) and price(int)\n",
    "* ###### Use the round function to return discount value as an integer\n",
    "* ###### The discount rate for orders in 2021 is 20%.\n",
    "* ###### The discount rate for orders in 2022 is 5%.\n"
   ],
   "metadata": {
    "collapsed": false,
    "pycharm": {
     "name": "#%% md\n"
    }
   }
  },
  {
   "cell_type": "code",
   "execution_count": 24,
   "outputs": [],
   "source": [
    "def cal_discount() -> int:\n",
    "    return 0"
   ],
   "metadata": {
    "collapsed": false,
    "pycharm": {
     "name": "#%%\n"
    }
   }
  },
  {
   "cell_type": "markdown",
   "source": [
    "##### Step 2: Set the dtype of order_date as Datetime\n",
    "* ###### Use the to_datetime function in pandas"
   ],
   "metadata": {
    "collapsed": false,
    "pycharm": {
     "name": "#%% md\n"
    }
   }
  },
  {
   "cell_type": "code",
   "execution_count": 26,
   "outputs": [
    {
     "data": {
      "text/plain": "shop_id                   int64\ngoods_no                  int64\ngoods_nm                 object\ncustomer_name            object\norder_date       datetime64[ns]\nprice                     int64\ndiscount                float64\npaid_price              float64\ndtype: object"
     },
     "execution_count": 26,
     "metadata": {},
     "output_type": "execute_result"
    }
   ],
   "source": [
    "df[\"order_date\"] = \"\"\n",
    "df.dtypes"
   ],
   "metadata": {
    "collapsed": false,
    "pycharm": {
     "name": "#%%\n"
    }
   }
  },
  {
   "cell_type": "markdown",
   "source": [
    "##### Step 3: Get discount from price\n",
    "* ###### Use the function that made in step1"
   ],
   "metadata": {
    "collapsed": false,
    "pycharm": {
     "name": "#%% md\n"
    }
   }
  },
  {
   "cell_type": "code",
   "execution_count": 27,
   "outputs": [
    {
     "data": {
      "text/plain": "    shop_id  goods_no               goods_nm customer_name order_date   price  \\\n0       163    183058             Prada Coat          Mike 2021-12-26  674900   \n1       104    183028        Gucci Accessory         Stark 2022-01-15  102870   \n2       181    183003         Gucci Necklace          Mike 2022-01-07  576900   \n3       136    183039     Ferragamo Necklace         Burry 2022-01-08  683100   \n4       126    183005   Thom Browne Necklace          jane 2022-01-04  724140   \n5       146    183042   Thom Browne T-Shirts         Stark 2021-12-29  708960   \n6        24    183038        Ferragamo Pants          Alex 2022-01-06  864780   \n7       154    183012  Bottega Veneta Shirts         Burry 2022-01-04  599860   \n8        47    183052   Thom Browne T-Shirts         Stark 2021-12-26  321080   \n9       163    183010         Prada Necklace          Tony 2022-01-09  792990   \n10      126    183005   Thom Browne Necklace          jane 2022-01-04  724140   \n11       62    183017             Prada Coat          Mike 2021-12-28  625820   \n12       51    183054         Prada T-Shirts          jane 2022-01-04  566100   \n13      104    183024         Gucci T-Shirts          Tony 2021-12-26  420640   \n14      104    183024         Gucci T-Shirts          jane 2022-01-02  425420   \n15       52    183034     Thom Browne Shirts          Alex 2022-01-15  615700   \n16       86    183025   Bottega Veneta Pants         Stark 2021-12-28  785680   \n17       52    183034     Thom Browne Shirts          Mike 2022-01-09  563300   \n18       12    183016  Bottega Veneta Shirts         Stark 2021-12-29  477960   \n19       37    183001      Thom Browne Pants          jane 2021-12-30  375830   \n20       62    183017             Prada Coat          Mike 2021-12-28  625820   \n21       17    183035        Ferragamo Pants          Alex 2022-01-05  928720   \n22        6    183051   Bottega Veneta Pants         Burry 2022-01-15  280000   \n23      104    183024         Gucci T-Shirts          jane 2021-12-30  401520   \n24       85    183018     Thom Browne Shirts          jane 2022-01-01  749430   \n25      154    183012  Bottega Veneta Shirts          Tony 2022-01-05  579640   \n26        6    183051   Bottega Veneta Pants         Burry 2022-01-06  332500   \n27      190    183023     Thom Browne Shirts          jane 2021-12-31  829010   \n28      154    183012  Bottega Veneta Shirts         Burry 2022-01-04  599860   \n29       85    183018     Thom Browne Shirts          jane 2022-01-01  749430   \n30      126    183005   Thom Browne Necklace          jane 2022-01-04  724140   \n\n    discount  paid_price  \n0   134980.0    539920.0  \n1     5144.0     97726.5  \n2    28845.0    548055.0  \n3    34155.0    648945.0  \n4    36207.0    687933.0  \n5   141792.0    567168.0  \n6    43239.0    821541.0  \n7    29993.0    569867.0  \n8    64216.0    256864.0  \n9    39650.0    753340.5  \n10   36207.0    687933.0  \n11  125164.0    500656.0  \n12   28305.0    537795.0  \n13   84128.0    336512.0  \n14   21271.0    404149.0  \n15   30785.0    584915.0  \n16  157136.0    628544.0  \n17   28165.0    535135.0  \n18   95592.0    382368.0  \n19   75166.0    300664.0  \n20  125164.0    500656.0  \n21   46436.0    882284.0  \n22   14000.0    266000.0  \n23   80304.0    321216.0  \n24   37472.0    711958.5  \n25   28982.0    550658.0  \n26   16625.0    315875.0  \n27  165802.0    663208.0  \n28   29993.0    569867.0  \n29   37472.0    711958.5  \n30   36207.0    687933.0  ",
      "text/html": "<div>\n<style scoped>\n    .dataframe tbody tr th:only-of-type {\n        vertical-align: middle;\n    }\n\n    .dataframe tbody tr th {\n        vertical-align: top;\n    }\n\n    .dataframe thead th {\n        text-align: right;\n    }\n</style>\n<table border=\"1\" class=\"dataframe\">\n  <thead>\n    <tr style=\"text-align: right;\">\n      <th></th>\n      <th>shop_id</th>\n      <th>goods_no</th>\n      <th>goods_nm</th>\n      <th>customer_name</th>\n      <th>order_date</th>\n      <th>price</th>\n      <th>discount</th>\n      <th>paid_price</th>\n    </tr>\n  </thead>\n  <tbody>\n    <tr>\n      <th>0</th>\n      <td>163</td>\n      <td>183058</td>\n      <td>Prada Coat</td>\n      <td>Mike</td>\n      <td>2021-12-26</td>\n      <td>674900</td>\n      <td>134980.0</td>\n      <td>539920.0</td>\n    </tr>\n    <tr>\n      <th>1</th>\n      <td>104</td>\n      <td>183028</td>\n      <td>Gucci Accessory</td>\n      <td>Stark</td>\n      <td>2022-01-15</td>\n      <td>102870</td>\n      <td>5144.0</td>\n      <td>97726.5</td>\n    </tr>\n    <tr>\n      <th>2</th>\n      <td>181</td>\n      <td>183003</td>\n      <td>Gucci Necklace</td>\n      <td>Mike</td>\n      <td>2022-01-07</td>\n      <td>576900</td>\n      <td>28845.0</td>\n      <td>548055.0</td>\n    </tr>\n    <tr>\n      <th>3</th>\n      <td>136</td>\n      <td>183039</td>\n      <td>Ferragamo Necklace</td>\n      <td>Burry</td>\n      <td>2022-01-08</td>\n      <td>683100</td>\n      <td>34155.0</td>\n      <td>648945.0</td>\n    </tr>\n    <tr>\n      <th>4</th>\n      <td>126</td>\n      <td>183005</td>\n      <td>Thom Browne Necklace</td>\n      <td>jane</td>\n      <td>2022-01-04</td>\n      <td>724140</td>\n      <td>36207.0</td>\n      <td>687933.0</td>\n    </tr>\n    <tr>\n      <th>5</th>\n      <td>146</td>\n      <td>183042</td>\n      <td>Thom Browne T-Shirts</td>\n      <td>Stark</td>\n      <td>2021-12-29</td>\n      <td>708960</td>\n      <td>141792.0</td>\n      <td>567168.0</td>\n    </tr>\n    <tr>\n      <th>6</th>\n      <td>24</td>\n      <td>183038</td>\n      <td>Ferragamo Pants</td>\n      <td>Alex</td>\n      <td>2022-01-06</td>\n      <td>864780</td>\n      <td>43239.0</td>\n      <td>821541.0</td>\n    </tr>\n    <tr>\n      <th>7</th>\n      <td>154</td>\n      <td>183012</td>\n      <td>Bottega Veneta Shirts</td>\n      <td>Burry</td>\n      <td>2022-01-04</td>\n      <td>599860</td>\n      <td>29993.0</td>\n      <td>569867.0</td>\n    </tr>\n    <tr>\n      <th>8</th>\n      <td>47</td>\n      <td>183052</td>\n      <td>Thom Browne T-Shirts</td>\n      <td>Stark</td>\n      <td>2021-12-26</td>\n      <td>321080</td>\n      <td>64216.0</td>\n      <td>256864.0</td>\n    </tr>\n    <tr>\n      <th>9</th>\n      <td>163</td>\n      <td>183010</td>\n      <td>Prada Necklace</td>\n      <td>Tony</td>\n      <td>2022-01-09</td>\n      <td>792990</td>\n      <td>39650.0</td>\n      <td>753340.5</td>\n    </tr>\n    <tr>\n      <th>10</th>\n      <td>126</td>\n      <td>183005</td>\n      <td>Thom Browne Necklace</td>\n      <td>jane</td>\n      <td>2022-01-04</td>\n      <td>724140</td>\n      <td>36207.0</td>\n      <td>687933.0</td>\n    </tr>\n    <tr>\n      <th>11</th>\n      <td>62</td>\n      <td>183017</td>\n      <td>Prada Coat</td>\n      <td>Mike</td>\n      <td>2021-12-28</td>\n      <td>625820</td>\n      <td>125164.0</td>\n      <td>500656.0</td>\n    </tr>\n    <tr>\n      <th>12</th>\n      <td>51</td>\n      <td>183054</td>\n      <td>Prada T-Shirts</td>\n      <td>jane</td>\n      <td>2022-01-04</td>\n      <td>566100</td>\n      <td>28305.0</td>\n      <td>537795.0</td>\n    </tr>\n    <tr>\n      <th>13</th>\n      <td>104</td>\n      <td>183024</td>\n      <td>Gucci T-Shirts</td>\n      <td>Tony</td>\n      <td>2021-12-26</td>\n      <td>420640</td>\n      <td>84128.0</td>\n      <td>336512.0</td>\n    </tr>\n    <tr>\n      <th>14</th>\n      <td>104</td>\n      <td>183024</td>\n      <td>Gucci T-Shirts</td>\n      <td>jane</td>\n      <td>2022-01-02</td>\n      <td>425420</td>\n      <td>21271.0</td>\n      <td>404149.0</td>\n    </tr>\n    <tr>\n      <th>15</th>\n      <td>52</td>\n      <td>183034</td>\n      <td>Thom Browne Shirts</td>\n      <td>Alex</td>\n      <td>2022-01-15</td>\n      <td>615700</td>\n      <td>30785.0</td>\n      <td>584915.0</td>\n    </tr>\n    <tr>\n      <th>16</th>\n      <td>86</td>\n      <td>183025</td>\n      <td>Bottega Veneta Pants</td>\n      <td>Stark</td>\n      <td>2021-12-28</td>\n      <td>785680</td>\n      <td>157136.0</td>\n      <td>628544.0</td>\n    </tr>\n    <tr>\n      <th>17</th>\n      <td>52</td>\n      <td>183034</td>\n      <td>Thom Browne Shirts</td>\n      <td>Mike</td>\n      <td>2022-01-09</td>\n      <td>563300</td>\n      <td>28165.0</td>\n      <td>535135.0</td>\n    </tr>\n    <tr>\n      <th>18</th>\n      <td>12</td>\n      <td>183016</td>\n      <td>Bottega Veneta Shirts</td>\n      <td>Stark</td>\n      <td>2021-12-29</td>\n      <td>477960</td>\n      <td>95592.0</td>\n      <td>382368.0</td>\n    </tr>\n    <tr>\n      <th>19</th>\n      <td>37</td>\n      <td>183001</td>\n      <td>Thom Browne Pants</td>\n      <td>jane</td>\n      <td>2021-12-30</td>\n      <td>375830</td>\n      <td>75166.0</td>\n      <td>300664.0</td>\n    </tr>\n    <tr>\n      <th>20</th>\n      <td>62</td>\n      <td>183017</td>\n      <td>Prada Coat</td>\n      <td>Mike</td>\n      <td>2021-12-28</td>\n      <td>625820</td>\n      <td>125164.0</td>\n      <td>500656.0</td>\n    </tr>\n    <tr>\n      <th>21</th>\n      <td>17</td>\n      <td>183035</td>\n      <td>Ferragamo Pants</td>\n      <td>Alex</td>\n      <td>2022-01-05</td>\n      <td>928720</td>\n      <td>46436.0</td>\n      <td>882284.0</td>\n    </tr>\n    <tr>\n      <th>22</th>\n      <td>6</td>\n      <td>183051</td>\n      <td>Bottega Veneta Pants</td>\n      <td>Burry</td>\n      <td>2022-01-15</td>\n      <td>280000</td>\n      <td>14000.0</td>\n      <td>266000.0</td>\n    </tr>\n    <tr>\n      <th>23</th>\n      <td>104</td>\n      <td>183024</td>\n      <td>Gucci T-Shirts</td>\n      <td>jane</td>\n      <td>2021-12-30</td>\n      <td>401520</td>\n      <td>80304.0</td>\n      <td>321216.0</td>\n    </tr>\n    <tr>\n      <th>24</th>\n      <td>85</td>\n      <td>183018</td>\n      <td>Thom Browne Shirts</td>\n      <td>jane</td>\n      <td>2022-01-01</td>\n      <td>749430</td>\n      <td>37472.0</td>\n      <td>711958.5</td>\n    </tr>\n    <tr>\n      <th>25</th>\n      <td>154</td>\n      <td>183012</td>\n      <td>Bottega Veneta Shirts</td>\n      <td>Tony</td>\n      <td>2022-01-05</td>\n      <td>579640</td>\n      <td>28982.0</td>\n      <td>550658.0</td>\n    </tr>\n    <tr>\n      <th>26</th>\n      <td>6</td>\n      <td>183051</td>\n      <td>Bottega Veneta Pants</td>\n      <td>Burry</td>\n      <td>2022-01-06</td>\n      <td>332500</td>\n      <td>16625.0</td>\n      <td>315875.0</td>\n    </tr>\n    <tr>\n      <th>27</th>\n      <td>190</td>\n      <td>183023</td>\n      <td>Thom Browne Shirts</td>\n      <td>jane</td>\n      <td>2021-12-31</td>\n      <td>829010</td>\n      <td>165802.0</td>\n      <td>663208.0</td>\n    </tr>\n    <tr>\n      <th>28</th>\n      <td>154</td>\n      <td>183012</td>\n      <td>Bottega Veneta Shirts</td>\n      <td>Burry</td>\n      <td>2022-01-04</td>\n      <td>599860</td>\n      <td>29993.0</td>\n      <td>569867.0</td>\n    </tr>\n    <tr>\n      <th>29</th>\n      <td>85</td>\n      <td>183018</td>\n      <td>Thom Browne Shirts</td>\n      <td>jane</td>\n      <td>2022-01-01</td>\n      <td>749430</td>\n      <td>37472.0</td>\n      <td>711958.5</td>\n    </tr>\n    <tr>\n      <th>30</th>\n      <td>126</td>\n      <td>183005</td>\n      <td>Thom Browne Necklace</td>\n      <td>jane</td>\n      <td>2022-01-04</td>\n      <td>724140</td>\n      <td>36207.0</td>\n      <td>687933.0</td>\n    </tr>\n  </tbody>\n</table>\n</div>"
     },
     "execution_count": 27,
     "metadata": {},
     "output_type": "execute_result"
    }
   ],
   "source": [
    "df[\"discount\"] = \"\"\n",
    "df"
   ],
   "metadata": {
    "collapsed": false,
    "pycharm": {
     "name": "#%%\n"
    }
   }
  },
  {
   "cell_type": "markdown",
   "source": [
    "##### Step 4: Calculate paid_price from price and discount"
   ],
   "metadata": {
    "collapsed": false,
    "pycharm": {
     "name": "#%% md\n"
    }
   }
  },
  {
   "cell_type": "code",
   "execution_count": 28,
   "outputs": [
    {
     "data": {
      "text/plain": "    shop_id  goods_no               goods_nm customer_name order_date   price  \\\n0       163    183058             Prada Coat          Mike 2021-12-26  674900   \n1       104    183028        Gucci Accessory         Stark 2022-01-15  102870   \n2       181    183003         Gucci Necklace          Mike 2022-01-07  576900   \n3       136    183039     Ferragamo Necklace         Burry 2022-01-08  683100   \n4       126    183005   Thom Browne Necklace          jane 2022-01-04  724140   \n5       146    183042   Thom Browne T-Shirts         Stark 2021-12-29  708960   \n6        24    183038        Ferragamo Pants          Alex 2022-01-06  864780   \n7       154    183012  Bottega Veneta Shirts         Burry 2022-01-04  599860   \n8        47    183052   Thom Browne T-Shirts         Stark 2021-12-26  321080   \n9       163    183010         Prada Necklace          Tony 2022-01-09  792990   \n10      126    183005   Thom Browne Necklace          jane 2022-01-04  724140   \n11       62    183017             Prada Coat          Mike 2021-12-28  625820   \n12       51    183054         Prada T-Shirts          jane 2022-01-04  566100   \n13      104    183024         Gucci T-Shirts          Tony 2021-12-26  420640   \n14      104    183024         Gucci T-Shirts          jane 2022-01-02  425420   \n15       52    183034     Thom Browne Shirts          Alex 2022-01-15  615700   \n16       86    183025   Bottega Veneta Pants         Stark 2021-12-28  785680   \n17       52    183034     Thom Browne Shirts          Mike 2022-01-09  563300   \n18       12    183016  Bottega Veneta Shirts         Stark 2021-12-29  477960   \n19       37    183001      Thom Browne Pants          jane 2021-12-30  375830   \n20       62    183017             Prada Coat          Mike 2021-12-28  625820   \n21       17    183035        Ferragamo Pants          Alex 2022-01-05  928720   \n22        6    183051   Bottega Veneta Pants         Burry 2022-01-15  280000   \n23      104    183024         Gucci T-Shirts          jane 2021-12-30  401520   \n24       85    183018     Thom Browne Shirts          jane 2022-01-01  749430   \n25      154    183012  Bottega Veneta Shirts          Tony 2022-01-05  579640   \n26        6    183051   Bottega Veneta Pants         Burry 2022-01-06  332500   \n27      190    183023     Thom Browne Shirts          jane 2021-12-31  829010   \n28      154    183012  Bottega Veneta Shirts         Burry 2022-01-04  599860   \n29       85    183018     Thom Browne Shirts          jane 2022-01-01  749430   \n30      126    183005   Thom Browne Necklace          jane 2022-01-04  724140   \n\n    discount  paid_price  \n0   134980.0    539920.0  \n1     5144.0     97726.0  \n2    28845.0    548055.0  \n3    34155.0    648945.0  \n4    36207.0    687933.0  \n5   141792.0    567168.0  \n6    43239.0    821541.0  \n7    29993.0    569867.0  \n8    64216.0    256864.0  \n9    39650.0    753340.0  \n10   36207.0    687933.0  \n11  125164.0    500656.0  \n12   28305.0    537795.0  \n13   84128.0    336512.0  \n14   21271.0    404149.0  \n15   30785.0    584915.0  \n16  157136.0    628544.0  \n17   28165.0    535135.0  \n18   95592.0    382368.0  \n19   75166.0    300664.0  \n20  125164.0    500656.0  \n21   46436.0    882284.0  \n22   14000.0    266000.0  \n23   80304.0    321216.0  \n24   37472.0    711958.0  \n25   28982.0    550658.0  \n26   16625.0    315875.0  \n27  165802.0    663208.0  \n28   29993.0    569867.0  \n29   37472.0    711958.0  \n30   36207.0    687933.0  ",
      "text/html": "<div>\n<style scoped>\n    .dataframe tbody tr th:only-of-type {\n        vertical-align: middle;\n    }\n\n    .dataframe tbody tr th {\n        vertical-align: top;\n    }\n\n    .dataframe thead th {\n        text-align: right;\n    }\n</style>\n<table border=\"1\" class=\"dataframe\">\n  <thead>\n    <tr style=\"text-align: right;\">\n      <th></th>\n      <th>shop_id</th>\n      <th>goods_no</th>\n      <th>goods_nm</th>\n      <th>customer_name</th>\n      <th>order_date</th>\n      <th>price</th>\n      <th>discount</th>\n      <th>paid_price</th>\n    </tr>\n  </thead>\n  <tbody>\n    <tr>\n      <th>0</th>\n      <td>163</td>\n      <td>183058</td>\n      <td>Prada Coat</td>\n      <td>Mike</td>\n      <td>2021-12-26</td>\n      <td>674900</td>\n      <td>134980.0</td>\n      <td>539920.0</td>\n    </tr>\n    <tr>\n      <th>1</th>\n      <td>104</td>\n      <td>183028</td>\n      <td>Gucci Accessory</td>\n      <td>Stark</td>\n      <td>2022-01-15</td>\n      <td>102870</td>\n      <td>5144.0</td>\n      <td>97726.0</td>\n    </tr>\n    <tr>\n      <th>2</th>\n      <td>181</td>\n      <td>183003</td>\n      <td>Gucci Necklace</td>\n      <td>Mike</td>\n      <td>2022-01-07</td>\n      <td>576900</td>\n      <td>28845.0</td>\n      <td>548055.0</td>\n    </tr>\n    <tr>\n      <th>3</th>\n      <td>136</td>\n      <td>183039</td>\n      <td>Ferragamo Necklace</td>\n      <td>Burry</td>\n      <td>2022-01-08</td>\n      <td>683100</td>\n      <td>34155.0</td>\n      <td>648945.0</td>\n    </tr>\n    <tr>\n      <th>4</th>\n      <td>126</td>\n      <td>183005</td>\n      <td>Thom Browne Necklace</td>\n      <td>jane</td>\n      <td>2022-01-04</td>\n      <td>724140</td>\n      <td>36207.0</td>\n      <td>687933.0</td>\n    </tr>\n    <tr>\n      <th>5</th>\n      <td>146</td>\n      <td>183042</td>\n      <td>Thom Browne T-Shirts</td>\n      <td>Stark</td>\n      <td>2021-12-29</td>\n      <td>708960</td>\n      <td>141792.0</td>\n      <td>567168.0</td>\n    </tr>\n    <tr>\n      <th>6</th>\n      <td>24</td>\n      <td>183038</td>\n      <td>Ferragamo Pants</td>\n      <td>Alex</td>\n      <td>2022-01-06</td>\n      <td>864780</td>\n      <td>43239.0</td>\n      <td>821541.0</td>\n    </tr>\n    <tr>\n      <th>7</th>\n      <td>154</td>\n      <td>183012</td>\n      <td>Bottega Veneta Shirts</td>\n      <td>Burry</td>\n      <td>2022-01-04</td>\n      <td>599860</td>\n      <td>29993.0</td>\n      <td>569867.0</td>\n    </tr>\n    <tr>\n      <th>8</th>\n      <td>47</td>\n      <td>183052</td>\n      <td>Thom Browne T-Shirts</td>\n      <td>Stark</td>\n      <td>2021-12-26</td>\n      <td>321080</td>\n      <td>64216.0</td>\n      <td>256864.0</td>\n    </tr>\n    <tr>\n      <th>9</th>\n      <td>163</td>\n      <td>183010</td>\n      <td>Prada Necklace</td>\n      <td>Tony</td>\n      <td>2022-01-09</td>\n      <td>792990</td>\n      <td>39650.0</td>\n      <td>753340.0</td>\n    </tr>\n    <tr>\n      <th>10</th>\n      <td>126</td>\n      <td>183005</td>\n      <td>Thom Browne Necklace</td>\n      <td>jane</td>\n      <td>2022-01-04</td>\n      <td>724140</td>\n      <td>36207.0</td>\n      <td>687933.0</td>\n    </tr>\n    <tr>\n      <th>11</th>\n      <td>62</td>\n      <td>183017</td>\n      <td>Prada Coat</td>\n      <td>Mike</td>\n      <td>2021-12-28</td>\n      <td>625820</td>\n      <td>125164.0</td>\n      <td>500656.0</td>\n    </tr>\n    <tr>\n      <th>12</th>\n      <td>51</td>\n      <td>183054</td>\n      <td>Prada T-Shirts</td>\n      <td>jane</td>\n      <td>2022-01-04</td>\n      <td>566100</td>\n      <td>28305.0</td>\n      <td>537795.0</td>\n    </tr>\n    <tr>\n      <th>13</th>\n      <td>104</td>\n      <td>183024</td>\n      <td>Gucci T-Shirts</td>\n      <td>Tony</td>\n      <td>2021-12-26</td>\n      <td>420640</td>\n      <td>84128.0</td>\n      <td>336512.0</td>\n    </tr>\n    <tr>\n      <th>14</th>\n      <td>104</td>\n      <td>183024</td>\n      <td>Gucci T-Shirts</td>\n      <td>jane</td>\n      <td>2022-01-02</td>\n      <td>425420</td>\n      <td>21271.0</td>\n      <td>404149.0</td>\n    </tr>\n    <tr>\n      <th>15</th>\n      <td>52</td>\n      <td>183034</td>\n      <td>Thom Browne Shirts</td>\n      <td>Alex</td>\n      <td>2022-01-15</td>\n      <td>615700</td>\n      <td>30785.0</td>\n      <td>584915.0</td>\n    </tr>\n    <tr>\n      <th>16</th>\n      <td>86</td>\n      <td>183025</td>\n      <td>Bottega Veneta Pants</td>\n      <td>Stark</td>\n      <td>2021-12-28</td>\n      <td>785680</td>\n      <td>157136.0</td>\n      <td>628544.0</td>\n    </tr>\n    <tr>\n      <th>17</th>\n      <td>52</td>\n      <td>183034</td>\n      <td>Thom Browne Shirts</td>\n      <td>Mike</td>\n      <td>2022-01-09</td>\n      <td>563300</td>\n      <td>28165.0</td>\n      <td>535135.0</td>\n    </tr>\n    <tr>\n      <th>18</th>\n      <td>12</td>\n      <td>183016</td>\n      <td>Bottega Veneta Shirts</td>\n      <td>Stark</td>\n      <td>2021-12-29</td>\n      <td>477960</td>\n      <td>95592.0</td>\n      <td>382368.0</td>\n    </tr>\n    <tr>\n      <th>19</th>\n      <td>37</td>\n      <td>183001</td>\n      <td>Thom Browne Pants</td>\n      <td>jane</td>\n      <td>2021-12-30</td>\n      <td>375830</td>\n      <td>75166.0</td>\n      <td>300664.0</td>\n    </tr>\n    <tr>\n      <th>20</th>\n      <td>62</td>\n      <td>183017</td>\n      <td>Prada Coat</td>\n      <td>Mike</td>\n      <td>2021-12-28</td>\n      <td>625820</td>\n      <td>125164.0</td>\n      <td>500656.0</td>\n    </tr>\n    <tr>\n      <th>21</th>\n      <td>17</td>\n      <td>183035</td>\n      <td>Ferragamo Pants</td>\n      <td>Alex</td>\n      <td>2022-01-05</td>\n      <td>928720</td>\n      <td>46436.0</td>\n      <td>882284.0</td>\n    </tr>\n    <tr>\n      <th>22</th>\n      <td>6</td>\n      <td>183051</td>\n      <td>Bottega Veneta Pants</td>\n      <td>Burry</td>\n      <td>2022-01-15</td>\n      <td>280000</td>\n      <td>14000.0</td>\n      <td>266000.0</td>\n    </tr>\n    <tr>\n      <th>23</th>\n      <td>104</td>\n      <td>183024</td>\n      <td>Gucci T-Shirts</td>\n      <td>jane</td>\n      <td>2021-12-30</td>\n      <td>401520</td>\n      <td>80304.0</td>\n      <td>321216.0</td>\n    </tr>\n    <tr>\n      <th>24</th>\n      <td>85</td>\n      <td>183018</td>\n      <td>Thom Browne Shirts</td>\n      <td>jane</td>\n      <td>2022-01-01</td>\n      <td>749430</td>\n      <td>37472.0</td>\n      <td>711958.0</td>\n    </tr>\n    <tr>\n      <th>25</th>\n      <td>154</td>\n      <td>183012</td>\n      <td>Bottega Veneta Shirts</td>\n      <td>Tony</td>\n      <td>2022-01-05</td>\n      <td>579640</td>\n      <td>28982.0</td>\n      <td>550658.0</td>\n    </tr>\n    <tr>\n      <th>26</th>\n      <td>6</td>\n      <td>183051</td>\n      <td>Bottega Veneta Pants</td>\n      <td>Burry</td>\n      <td>2022-01-06</td>\n      <td>332500</td>\n      <td>16625.0</td>\n      <td>315875.0</td>\n    </tr>\n    <tr>\n      <th>27</th>\n      <td>190</td>\n      <td>183023</td>\n      <td>Thom Browne Shirts</td>\n      <td>jane</td>\n      <td>2021-12-31</td>\n      <td>829010</td>\n      <td>165802.0</td>\n      <td>663208.0</td>\n    </tr>\n    <tr>\n      <th>28</th>\n      <td>154</td>\n      <td>183012</td>\n      <td>Bottega Veneta Shirts</td>\n      <td>Burry</td>\n      <td>2022-01-04</td>\n      <td>599860</td>\n      <td>29993.0</td>\n      <td>569867.0</td>\n    </tr>\n    <tr>\n      <th>29</th>\n      <td>85</td>\n      <td>183018</td>\n      <td>Thom Browne Shirts</td>\n      <td>jane</td>\n      <td>2022-01-01</td>\n      <td>749430</td>\n      <td>37472.0</td>\n      <td>711958.0</td>\n    </tr>\n    <tr>\n      <th>30</th>\n      <td>126</td>\n      <td>183005</td>\n      <td>Thom Browne Necklace</td>\n      <td>jane</td>\n      <td>2022-01-04</td>\n      <td>724140</td>\n      <td>36207.0</td>\n      <td>687933.0</td>\n    </tr>\n  </tbody>\n</table>\n</div>"
     },
     "execution_count": 28,
     "metadata": {},
     "output_type": "execute_result"
    }
   ],
   "source": [
    "df[\"paid_price\"] = \"\"\n",
    "df"
   ],
   "metadata": {
    "collapsed": false,
    "pycharm": {
     "name": "#%%\n"
    }
   }
  },
  {
   "cell_type": "markdown",
   "source": [
    "##### Step 5: Get total paid_price and average paid_price of each customer"
   ],
   "metadata": {
    "collapsed": false,
    "pycharm": {
     "name": "#%% md\n"
    }
   }
  },
  {
   "cell_type": "code",
   "execution_count": 29,
   "outputs": [
    {
     "data": {
      "text/plain": "               total_price      avg_price\ncustomer_name                            \nAlex             2288740.0  762913.333333\nBurry            2370554.0  474110.800000\nMike             2624422.0  524884.400000\nStark            1932670.0  386534.000000\nTony             1640510.0  546836.666667\njane             5714747.0  571474.700000",
      "text/html": "<div>\n<style scoped>\n    .dataframe tbody tr th:only-of-type {\n        vertical-align: middle;\n    }\n\n    .dataframe tbody tr th {\n        vertical-align: top;\n    }\n\n    .dataframe thead th {\n        text-align: right;\n    }\n</style>\n<table border=\"1\" class=\"dataframe\">\n  <thead>\n    <tr style=\"text-align: right;\">\n      <th></th>\n      <th>total_price</th>\n      <th>avg_price</th>\n    </tr>\n    <tr>\n      <th>customer_name</th>\n      <th></th>\n      <th></th>\n    </tr>\n  </thead>\n  <tbody>\n    <tr>\n      <th>Alex</th>\n      <td>2288740.0</td>\n      <td>762913.333333</td>\n    </tr>\n    <tr>\n      <th>Burry</th>\n      <td>2370554.0</td>\n      <td>474110.800000</td>\n    </tr>\n    <tr>\n      <th>Mike</th>\n      <td>2624422.0</td>\n      <td>524884.400000</td>\n    </tr>\n    <tr>\n      <th>Stark</th>\n      <td>1932670.0</td>\n      <td>386534.000000</td>\n    </tr>\n    <tr>\n      <th>Tony</th>\n      <td>1640510.0</td>\n      <td>546836.666667</td>\n    </tr>\n    <tr>\n      <th>jane</th>\n      <td>5714747.0</td>\n      <td>571474.700000</td>\n    </tr>\n  </tbody>\n</table>\n</div>"
     },
     "execution_count": 29,
     "metadata": {},
     "output_type": "execute_result"
    }
   ],
   "source": [
    "agg_data = \"\"\n",
    "agg_data"
   ],
   "metadata": {
    "collapsed": false,
    "pycharm": {
     "name": "#%%\n"
    }
   }
  }
 ],
 "metadata": {
  "kernelspec": {
   "display_name": "Python 3",
   "language": "python",
   "name": "python3"
  },
  "language_info": {
   "codemirror_mode": {
    "name": "ipython",
    "version": 2
   },
   "file_extension": ".py",
   "mimetype": "text/x-python",
   "name": "python",
   "nbconvert_exporter": "python",
   "pygments_lexer": "ipython2",
   "version": "2.7.6"
  }
 },
 "nbformat": 4,
 "nbformat_minor": 0
}