{
 "cells": [
  {
   "cell_type": "markdown",
   "source": [
    "### Problem15: mutable Vs. Immutable"
   ],
   "metadata": {
    "collapsed": false,
    "pycharm": {
     "name": "#%% md\n"
    }
   }
  },
  {
   "cell_type": "markdown",
   "source": [
    "##### Step 1: Is int type mutable?"
   ],
   "metadata": {
    "collapsed": false,
    "pycharm": {
     "name": "#%% md\n"
    }
   }
  },
  {
   "cell_type": "code",
   "execution_count": 20,
   "outputs": [
    {
     "name": "stdout",
     "output_type": "stream",
     "text": [
      "value : 3 \n",
      "address(id): 3042241610032 \n",
      "object type: <class 'int'>\n"
     ]
    }
   ],
   "source": [
    "example_int = 3\n",
    "# 변수가 저장된 Address\n",
    "address_before = id(example_int)\n",
    "\n",
    "print(\"value :\", example_int, \"\\naddress(id):\", address_before, \"\\nobject type:\", type(example_int))"
   ],
   "metadata": {
    "collapsed": false,
    "pycharm": {
     "name": "#%%\n"
    }
   }
  },
  {
   "cell_type": "code",
   "execution_count": 21,
   "outputs": [
    {
     "name": "stdout",
     "output_type": "stream",
     "text": [
      "value : 6 \n",
      "address(id): 3042241610032 \n",
      "object type: <class 'int'>\n"
     ]
    }
   ],
   "source": [
    "example_int += 3\n",
    "# 변수가 저장된 Address\n",
    "address_after = id(example_int)\n",
    "\n",
    "print(\"value :\", example_int, \"\\naddress(id):\", address_after, \"\\nobject type:\", type(example_int))"
   ],
   "metadata": {
    "collapsed": false,
    "pycharm": {
     "name": "#%%\n"
    }
   }
  },
  {
   "cell_type": "code",
   "execution_count": 24,
   "outputs": [
    {
     "name": "stdout",
     "output_type": "stream",
     "text": [
      "<class 'int'> is Immutable Object\n"
     ]
    }
   ],
   "source": [
    "if address_before == address_after:\n",
    "    print(f\"{type(example_int)} is Mutable Object\")\n",
    "else:\n",
    "    print(f\"{type(example_int)} is Immutable Object\")"
   ],
   "metadata": {
    "collapsed": false,
    "pycharm": {
     "name": "#%%\n"
    }
   }
  },
  {
   "cell_type": "markdown",
   "source": [
    "##### Step 2: Is float type mutable?"
   ],
   "metadata": {
    "collapsed": false,
    "pycharm": {
     "name": "#%% md\n"
    }
   }
  },
  {
   "cell_type": "code",
   "execution_count": 29,
   "outputs": [
    {
     "name": "stdout",
     "output_type": "stream",
     "text": [
      "value : 3.0 \n",
      "address(id): 3042736898928 \n",
      "object type: <class 'float'>\n"
     ]
    }
   ],
   "source": [
    "example_float = 3.0\n",
    "# 변수가 저장된 Address\n",
    "address_before = id(example_float)\n",
    "\n",
    "print(\"value :\", example_float, \"\\naddress(id):\", address_before, \"\\nobject type:\", type(example_float))"
   ],
   "metadata": {
    "collapsed": false,
    "pycharm": {
     "name": "#%%\n"
    }
   }
  },
  {
   "cell_type": "code",
   "execution_count": 30,
   "outputs": [
    {
     "name": "stdout",
     "output_type": "stream",
     "text": [
      "value : 3.85 \n",
      "address(id): 3042736898928 \n",
      "object type: <class 'float'>\n"
     ]
    }
   ],
   "source": [
    "example_float += 0.85\n",
    "# 변수가 저장된 Address\n",
    "address_after = id(example_float)\n",
    "\n",
    "print(\"value :\", example_float, \"\\naddress(id):\", address_after, \"\\nobject type:\", type(example_float))"
   ],
   "metadata": {
    "collapsed": false,
    "pycharm": {
     "name": "#%%\n"
    }
   }
  },
  {
   "cell_type": "code",
   "execution_count": 31,
   "outputs": [
    {
     "name": "stdout",
     "output_type": "stream",
     "text": [
      "<class 'float'> is Immutable Object\n"
     ]
    }
   ],
   "source": [
    "if address_before == address_after:\n",
    "    print(f\"{type(example_float)} is Mutable Object\")\n",
    "else:\n",
    "    print(f\"{type(example_float)} is Immutable Object\")"
   ],
   "metadata": {
    "collapsed": false,
    "pycharm": {
     "name": "#%%\n"
    }
   }
  },
  {
   "cell_type": "markdown",
   "source": [
    "##### Step 3: Is str type mutable?"
   ],
   "metadata": {
    "collapsed": false,
    "pycharm": {
     "name": "#%% md\n"
    }
   }
  },
  {
   "cell_type": "code",
   "execution_count": 37,
   "outputs": [
    {
     "name": "stdout",
     "output_type": "stream",
     "text": [
      "value : Hello! \n",
      "address(id): 3042736714864 \n",
      "object type: <class 'str'>\n"
     ]
    }
   ],
   "source": [
    "example_str = \"Hello!\"\n",
    "# 변수가 저장된 Address\n",
    "address_before = id(example_str)\n",
    "\n",
    "print(\"value :\", example_str, \"\\naddress(id):\", address_before, \"\\nobject type:\", type(example_str))"
   ],
   "metadata": {
    "collapsed": false,
    "pycharm": {
     "name": "#%%\n"
    }
   }
  },
  {
   "cell_type": "code",
   "execution_count": 38,
   "outputs": [
    {
     "name": "stdout",
     "output_type": "stream",
     "text": [
      "value : Hello! World! \n",
      "address(id): 3042736991088 \n",
      "object type: <class 'str'>\n"
     ]
    }
   ],
   "source": [
    "example_str += \" World!\"\n",
    "# 변수가 저장된 Address\n",
    "address_after = id(example_str)\n",
    "\n",
    "print(\"value :\", example_str, \"\\naddress(id):\", address_after, \"\\nobject type:\", type(example_str))"
   ],
   "metadata": {
    "collapsed": false,
    "pycharm": {
     "name": "#%%\n"
    }
   }
  },
  {
   "cell_type": "code",
   "execution_count": 39,
   "outputs": [
    {
     "name": "stdout",
     "output_type": "stream",
     "text": [
      "<class 'str'> is Immutable Object\n"
     ]
    }
   ],
   "source": [
    "if address_before == address_after:\n",
    "    print(f\"{type(example_str)} is Mutable Object\")\n",
    "else:\n",
    "    print(f\"{type(example_str)} is Immutable Object\")"
   ],
   "metadata": {
    "collapsed": false,
    "pycharm": {
     "name": "#%%\n"
    }
   }
  },
  {
   "cell_type": "markdown",
   "source": [
    "##### Step 4: Is list type mutable?"
   ],
   "metadata": {
    "collapsed": false,
    "pycharm": {
     "name": "#%% md\n"
    }
   }
  },
  {
   "cell_type": "code",
   "execution_count": 25,
   "outputs": [
    {
     "name": "stdout",
     "output_type": "stream",
     "text": [
      "value of c : [0, 1, 2, 3, 4, 5, 6, 7, 8, 9] \n",
      "id of c : 3042736846912 \n",
      "type of c : <class 'list'>\n"
     ]
    }
   ],
   "source": [
    "example_list = [i for i in range(10)]\n",
    "# 변수가 저장된 Address\n",
    "address_before = id(example_list)\n",
    "\n",
    "print(\"value :\", example_list, \"\\naddress(id):\", address_before, \"\\nobject type:\", type(example_list))"
   ],
   "metadata": {
    "collapsed": false,
    "pycharm": {
     "name": "#%%\n"
    }
   }
  },
  {
   "cell_type": "code",
   "execution_count": 26,
   "outputs": [
    {
     "name": "stdout",
     "output_type": "stream",
     "text": [
      "value of c : [100, 1, 2, 3, 4, 5, 6, 7, 8, 9] \n",
      "id of c : 3042736846912 \n",
      "type of c : <class 'list'>\n"
     ]
    }
   ],
   "source": [
    "example_list[0] = 100\n",
    "# 변수가 저장된 Address\n",
    "address_after = id(example_list)\n",
    "\n",
    "print(\"value :\", example_list, \"\\naddress(id):\", address_after, \"\\nobject type:\", type(example_list))"
   ],
   "metadata": {
    "collapsed": false,
    "pycharm": {
     "name": "#%%\n"
    }
   }
  },
  {
   "cell_type": "code",
   "execution_count": 28,
   "outputs": [
    {
     "name": "stdout",
     "output_type": "stream",
     "text": [
      "<class 'list'> is Mutable Object\n"
     ]
    }
   ],
   "source": [
    "if address_before == address_after:\n",
    "    print(f\"{type(example_list)} is Mutable Object\")\n",
    "else:\n",
    "    print(f\"{type(example_list)} is Immutable Object\")"
   ],
   "metadata": {
    "collapsed": false,
    "pycharm": {
     "name": "#%%\n"
    }
   }
  },
  {
   "cell_type": "markdown",
   "source": [
    "##### Step 5: Is tuple type mutable?"
   ],
   "metadata": {
    "collapsed": false,
    "pycharm": {
     "name": "#%% md\n"
    }
   }
  },
  {
   "cell_type": "code",
   "execution_count": 46,
   "outputs": [
    {
     "name": "stdout",
     "output_type": "stream",
     "text": [
      "value : (1, 2, 3, 4) \n",
      "address(id): 3042737034544 \n",
      "object type: <class 'tuple'>\n"
     ]
    }
   ],
   "source": [
    "example_tuple = (1, 2, 3, 4)\n",
    "# 변수가 저장된 Address\n",
    "address_before = id(example_tuple)\n",
    "\n",
    "print(\"value :\", example_tuple, \"\\naddress(id):\", address_before, \"\\nobject type:\", type(example_tuple))"
   ],
   "metadata": {
    "collapsed": false,
    "pycharm": {
     "name": "#%%\n"
    }
   }
  },
  {
   "cell_type": "code",
   "execution_count": 47,
   "outputs": [
    {
     "name": "stdout",
     "output_type": "stream",
     "text": [
      "'tuple' object does not support item assignment\n"
     ]
    }
   ],
   "source": [
    "try:\n",
    "    example_tuple[0] = 100\n",
    "    # 변수가 저장된 Address\n",
    "    address_after = id(example_tuple)\n",
    "\n",
    "    print(\"value :\", example_tuple, \"\\naddress(id):\", address_after, \"\\nobject type:\", type(example_tuple))\n",
    "except TypeError as e:\n",
    "    print(\"Error Message :\", e)\n",
    "    print(\"Tuple is Immutable Object\")"
   ],
   "metadata": {
    "collapsed": false,
    "pycharm": {
     "name": "#%%\n"
    }
   }
  },
  {
   "cell_type": "markdown",
   "source": [
    "##### Step 6: Is dict type mutable?"
   ],
   "metadata": {
    "collapsed": false,
    "pycharm": {
     "name": "#%% md\n"
    }
   }
  },
  {
   "cell_type": "code",
   "execution_count": 48,
   "outputs": [
    {
     "name": "stdout",
     "output_type": "stream",
     "text": [
      "value : {'key0': 0, 'key1': 1, 'key2': 2} \n",
      "address(id): 3042725401344 \n",
      "object type: <class 'dict'>\n"
     ]
    }
   ],
   "source": [
    "example_dict = {f\"key{i}\": i for i in range(3)}\n",
    "# 변수가 저장된 Address\n",
    "address_before = id(example_dict)\n",
    "\n",
    "print(\"value :\", example_dict, \"\\naddress(id):\", address_before, \"\\nobject type:\", type(example_dict))"
   ],
   "metadata": {
    "collapsed": false,
    "pycharm": {
     "name": "#%%\n"
    }
   }
  },
  {
   "cell_type": "code",
   "execution_count": 49,
   "outputs": [
    {
     "name": "stdout",
     "output_type": "stream",
     "text": [
      "value : {'key0': 0, 'key1': 100, 'key2': 2} \n",
      "address(id): 3042725401344 \n",
      "object type: <class 'dict'>\n"
     ]
    }
   ],
   "source": [
    "example_dict[\"key1\"] = 100\n",
    "# 변수가 저장된 Address\n",
    "address_after = id(example_dict)\n",
    "\n",
    "print(\"value :\", example_dict, \"\\naddress(id):\", address_after, \"\\nobject type:\", type(example_dict))"
   ],
   "metadata": {
    "collapsed": false,
    "pycharm": {
     "name": "#%%\n"
    }
   }
  },
  {
   "cell_type": "code",
   "execution_count": 50,
   "outputs": [
    {
     "name": "stdout",
     "output_type": "stream",
     "text": [
      "<class 'dict'> is Mutable Object\n"
     ]
    }
   ],
   "source": [
    "if address_before == address_after:\n",
    "    print(f\"{type(example_dict)} is Mutable Object\")\n",
    "else:\n",
    "    print(f\"{type(example_dict)} is Immutable Object\")"
   ],
   "metadata": {
    "collapsed": false,
    "pycharm": {
     "name": "#%%\n"
    }
   }
  },
  {
   "cell_type": "markdown",
   "source": [
    "##### Step 7: Is Class type mutable?"
   ],
   "metadata": {
    "collapsed": false,
    "pycharm": {
     "name": "#%% md\n"
    }
   }
  },
  {
   "cell_type": "code",
   "execution_count": 58,
   "outputs": [],
   "source": [
    "class Sample:\n",
    "    _age: int\n",
    "    def __init__(self, value):\n",
    "        self._age = value\n",
    "\n",
    "    @property\n",
    "    def age(self):\n",
    "        return self._age\n",
    "\n",
    "    @age.setter\n",
    "    def age(self, v):\n",
    "        self._age = v"
   ],
   "metadata": {
    "collapsed": false,
    "pycharm": {
     "name": "#%%\n"
    }
   }
  },
  {
   "cell_type": "code",
   "execution_count": 65,
   "outputs": [
    {
     "name": "stdout",
     "output_type": "stream",
     "text": [
      "value : 10 \n",
      "address(id): 3042725977808 \n",
      "object type: <class '__main__.Sample'>\n"
     ]
    }
   ],
   "source": [
    "example_class = Sample(10)\n",
    "# 변수가 저장된 Address\n",
    "address_before = id(example_class)\n",
    "\n",
    "print(\"value :\", example_class.age, \"\\naddress(id):\", address_before, \"\\nobject type:\", type(example_class))"
   ],
   "metadata": {
    "collapsed": false,
    "pycharm": {
     "name": "#%%\n"
    }
   }
  },
  {
   "cell_type": "code",
   "execution_count": 68,
   "outputs": [
    {
     "name": "stdout",
     "output_type": "stream",
     "text": [
      "value : 30 \n",
      "address(id): 3042725977808 \n",
      "object type: <class '__main__.Sample'>\n"
     ]
    }
   ],
   "source": [
    "example_class._age = 30\n",
    "# 변수가 저장된 Address\n",
    "address_after = id(example_class)\n",
    "\n",
    "print(\"value :\", example_class.age, \"\\naddress(id):\", address_after, \"\\nobject type:\", type(example_class))"
   ],
   "metadata": {
    "collapsed": false,
    "pycharm": {
     "name": "#%%\n"
    }
   }
  },
  {
   "cell_type": "code",
   "execution_count": 69,
   "outputs": [
    {
     "name": "stdout",
     "output_type": "stream",
     "text": [
      "<class 'dict'> is Mutable Object\n"
     ]
    }
   ],
   "source": [
    "if address_before == address_after:\n",
    "    print(f\"{type(example_dict)} is Mutable Object\")\n",
    "else:\n",
    "    print(f\"{type(example_dict)} is Immutable Object\")"
   ],
   "metadata": {
    "collapsed": false,
    "pycharm": {
     "name": "#%%\n"
    }
   }
  },
  {
   "cell_type": "code",
   "execution_count": null,
   "outputs": [],
   "source": [],
   "metadata": {
    "collapsed": false,
    "pycharm": {
     "name": "#%%\n"
    }
   }
  }
 ],
 "metadata": {
  "kernelspec": {
   "display_name": "Python 3",
   "language": "python",
   "name": "python3"
  },
  "language_info": {
   "codemirror_mode": {
    "name": "ipython",
    "version": 2
   },
   "file_extension": ".py",
   "mimetype": "text/x-python",
   "name": "python",
   "nbconvert_exporter": "python",
   "pygments_lexer": "ipython2",
   "version": "2.7.6"
  }
 },
 "nbformat": 4,
 "nbformat_minor": 0
}