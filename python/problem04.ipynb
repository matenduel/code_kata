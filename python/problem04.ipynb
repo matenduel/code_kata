{
 "cells": [
  {
   "cell_type": "code",
   "execution_count": 2,
   "metadata": {
    "collapsed": true
   },
   "outputs": [],
   "source": [
    "\"\"\"\n",
    "Problem04: Type check for the input data\n",
    "\n",
    "Step\n",
    "1. Make Pydantic model\n",
    "    1.1 fields = [\"shop_id\", \"revenue\", \"shop_name\"]\n",
    "2. Transform the given data\n",
    "    2.1 Use Pydantic model that create in step 1\n",
    "    2.2 shop_id and revenue must be integer type\n",
    "3. Get total_revenue by using map function\n",
    "\n",
    "Ref. https://pydantic-docs.helpmanual.io/\n",
    "\"\"\"\n",
    "\n",
    "from memory_profiler import profile\n",
    "from pydantic import BaseModel"
   ]
  },
  {
   "cell_type": "code",
   "execution_count": null,
   "outputs": [],
   "source": [
    "datas = [\n",
    "    {\"shop_id\": 1, \"revenue\": \"20000\", \"shop_name\": \"Tony\", \"address\": \"dongdaemun\"},\n",
    "    {\"shop_id\": \"2\", \"revenue\": 52000, \"shop_name\": \"Bruna Rosso\"},\n",
    "    {\"shop_id\": 3, \"revenue\": \"187000\", \"address\": \"gang-nam\"},\n",
    "]"
   ],
   "metadata": {
    "collapsed": false,
    "pycharm": {
     "name": "#%%\n"
    }
   }
  },
  {
   "cell_type": "code",
   "execution_count": null,
   "outputs": [],
   "source": [
    "# Step 1: Make Pydantic model"
   ],
   "metadata": {
    "collapsed": false,
    "pycharm": {
     "name": "#%%\n"
    }
   }
  },
  {
   "cell_type": "code",
   "execution_count": null,
   "outputs": [],
   "source": [],
   "metadata": {
    "collapsed": false,
    "pycharm": {
     "name": "#%%\n"
    }
   }
  },
  {
   "cell_type": "code",
   "execution_count": null,
   "outputs": [],
   "source": [
    "# Step 2: Transform the given data"
   ],
   "metadata": {
    "collapsed": false,
    "pycharm": {
     "name": "#%%\n"
    }
   }
  },
  {
   "cell_type": "code",
   "execution_count": null,
   "outputs": [],
   "source": [],
   "metadata": {
    "collapsed": false,
    "pycharm": {
     "name": "#%%\n"
    }
   }
  },
  {
   "cell_type": "code",
   "execution_count": null,
   "outputs": [],
   "source": [
    "# Step 3: Get total_revenue by using map function"
   ],
   "metadata": {
    "collapsed": false,
    "pycharm": {
     "name": "#%%\n"
    }
   }
  },
  {
   "cell_type": "code",
   "execution_count": null,
   "outputs": [],
   "source": [],
   "metadata": {
    "collapsed": false,
    "pycharm": {
     "name": "#%%\n"
    }
   }
  }
 ],
 "metadata": {
  "kernelspec": {
   "display_name": "Python 3",
   "language": "python",
   "name": "python3"
  },
  "language_info": {
   "codemirror_mode": {
    "name": "ipython",
    "version": 2
   },
   "file_extension": ".py",
   "mimetype": "text/x-python",
   "name": "python",
   "nbconvert_exporter": "python",
   "pygments_lexer": "ipython2",
   "version": "2.7.6"
  }
 },
 "nbformat": 4,
 "nbformat_minor": 0
}