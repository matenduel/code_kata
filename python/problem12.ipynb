{
 "cells": [
  {
   "cell_type": "markdown",
   "source": [
    "### Problem12: pandas query"
   ],
   "metadata": {
    "collapsed": false,
    "pycharm": {
     "name": "#%% md\n"
    }
   }
  },
  {
   "cell_type": "code",
   "execution_count": 2,
   "outputs": [],
   "source": [
    "import pandas as pd"
   ],
   "metadata": {
    "collapsed": false,
    "pycharm": {
     "name": "#%%\n"
    }
   }
  },
  {
   "cell_type": "code",
   "execution_count": 3,
   "outputs": [],
   "source": [
    "df = pd.read_csv('./data/user_data.csv', index_col=0)"
   ],
   "metadata": {
    "collapsed": false,
    "pycharm": {
     "name": "#%%\n"
    }
   }
  },
  {
   "cell_type": "markdown",
   "source": [
    "##### Step 1: Find the number of user which age > 30 or age < 20 with query"
   ],
   "metadata": {
    "collapsed": false,
    "pycharm": {
     "name": "#%% md\n"
    }
   }
  },
  {
   "cell_type": "code",
   "execution_count": 4,
   "outputs": [
    {
     "data": {
      "text/plain": "    gender       name  age                                   job country\nid                                                                      \n6   Female      Emily   35          Physical Therapist Assistant      KR\n8     Male      Mateo   33              Interpreter & Translator      JP\n10  Female     Olivia   19              Interpreter & Translator      KR\n15  Female        Mia   19                   Computer Programmer      FR\n16             Julian   40                   Mechanical Engineer      KR\n17  Female     Evelyn   16                Database Administrator     USA\n18               Zoey   37                            IT Manager     USA\n20    Male      Henry   17                   School Psychologist      KR\n22    Male   Benjamin   38                   Mechanical Engineer      FR\n24    Male     Elijah   35              Interpreter & Translator      KR\n25       -      Riley   33                    Physical Therapist      KR\n26  Female      Sofia   19          Physical Therapist Assistant      FR\n27    Male       Liam   37                   Computer Programmer      KR\n28  Female     Sophia   36                Occupational Therapist      FR\n32  Female       Emma   37                Database Administrator      FR\n33  Female   Isabella   17                   Computer Programmer      KR\n34  Female  Elizabeth   32                          Veterinarian      KR\n37  Female      Avery   35                      Registered Nurse      JP\n38    Male     Oliver   15                Occupational Therapist     USA\n39    Male      James   40                    Software Developer      JP\n43  Female     Evelyn   39              Interpreter & Translator     USA\n44    Male       Noah   38                            IT Manager      JP\n45  Female    Abigail   38                      Registered Nurse      JP\n46    Male    Jackson   31              Interpreter & Translator     USA\n47    Male   Benjamin   33                            Pharmacist      KR\n48  Female     Sophia   16                    Physical Therapist      KR\n49    Male      Ethan   19                            IT Manager      JP\n50  Female     Amelia   33              Interpreter & Translator      FR\n51    Male    Michael   39              Computer Systems Analyst      FR\n52    Male       Levi   38                    Software Developer      JP\n53    Male      Henry   31                   Computer Programmer      FR\n54  Female        Mia   34                        Epidemiologist     USA\n55  Female       Ella   36                Database Administrator      KR\n56    Male      Mateo   33                    Software Developer      KR\n57    Male      Mateo   35  Veterinary Technologist & Technician      JP\n58    Male      Ethan   40                    Physical Therapist      FR\n59    Male      Jacob   39                             Physician     USA\n66    Male     Oliver   31                   School Psychologist      FR\n67             Aurora   17          Physical Therapist Assistant      FR\n68  Female     Camila   37                    Software Developer      FR\n71    Male    Michael   39                        Epidemiologist      JP\n75       -       Lily   39                Occupational Therapist      FR\n76  Female       Mila   39                            IT Manager      JP\n77    Male    William   17              Computer Systems Analyst      FR\n78  Female    Abigail   31              Interpreter & Translator     USA\n80    Male       Noah   38                   School Psychologist      FR\n81  Female     Harper   18          Physical Therapist Assistant      JP\n82    Male      James   32              Interpreter & Translator      KR\n83    Male      James   35                    Software Developer     USA\n87    Male  Sebastian   19                          Veterinarian     USA\n89  Female      Sofia   17                               Dentist      KR\n90    Male      Mason   31                    Software Developer     USA\n93  Female     Evelyn   38              Interpreter & Translator      FR\n94    Male    William   34                    Physical Therapist      FR\n95       -      Riley   39                      Dental Hygienist      JP\n97  Female     Amelia   38                         Web Developer     USA\n98  Female        Mia   17                   School Psychologist      KR\n99  Female      Avery   35                             Physician      JP",
      "text/html": "<div>\n<style scoped>\n    .dataframe tbody tr th:only-of-type {\n        vertical-align: middle;\n    }\n\n    .dataframe tbody tr th {\n        vertical-align: top;\n    }\n\n    .dataframe thead th {\n        text-align: right;\n    }\n</style>\n<table border=\"1\" class=\"dataframe\">\n  <thead>\n    <tr style=\"text-align: right;\">\n      <th></th>\n      <th>gender</th>\n      <th>name</th>\n      <th>age</th>\n      <th>job</th>\n      <th>country</th>\n    </tr>\n    <tr>\n      <th>id</th>\n      <th></th>\n      <th></th>\n      <th></th>\n      <th></th>\n      <th></th>\n    </tr>\n  </thead>\n  <tbody>\n    <tr>\n      <th>6</th>\n      <td>Female</td>\n      <td>Emily</td>\n      <td>35</td>\n      <td>Physical Therapist Assistant</td>\n      <td>KR</td>\n    </tr>\n    <tr>\n      <th>8</th>\n      <td>Male</td>\n      <td>Mateo</td>\n      <td>33</td>\n      <td>Interpreter &amp; Translator</td>\n      <td>JP</td>\n    </tr>\n    <tr>\n      <th>10</th>\n      <td>Female</td>\n      <td>Olivia</td>\n      <td>19</td>\n      <td>Interpreter &amp; Translator</td>\n      <td>KR</td>\n    </tr>\n    <tr>\n      <th>15</th>\n      <td>Female</td>\n      <td>Mia</td>\n      <td>19</td>\n      <td>Computer Programmer</td>\n      <td>FR</td>\n    </tr>\n    <tr>\n      <th>16</th>\n      <td></td>\n      <td>Julian</td>\n      <td>40</td>\n      <td>Mechanical Engineer</td>\n      <td>KR</td>\n    </tr>\n    <tr>\n      <th>17</th>\n      <td>Female</td>\n      <td>Evelyn</td>\n      <td>16</td>\n      <td>Database Administrator</td>\n      <td>USA</td>\n    </tr>\n    <tr>\n      <th>18</th>\n      <td></td>\n      <td>Zoey</td>\n      <td>37</td>\n      <td>IT Manager</td>\n      <td>USA</td>\n    </tr>\n    <tr>\n      <th>20</th>\n      <td>Male</td>\n      <td>Henry</td>\n      <td>17</td>\n      <td>School Psychologist</td>\n      <td>KR</td>\n    </tr>\n    <tr>\n      <th>22</th>\n      <td>Male</td>\n      <td>Benjamin</td>\n      <td>38</td>\n      <td>Mechanical Engineer</td>\n      <td>FR</td>\n    </tr>\n    <tr>\n      <th>24</th>\n      <td>Male</td>\n      <td>Elijah</td>\n      <td>35</td>\n      <td>Interpreter &amp; Translator</td>\n      <td>KR</td>\n    </tr>\n    <tr>\n      <th>25</th>\n      <td>-</td>\n      <td>Riley</td>\n      <td>33</td>\n      <td>Physical Therapist</td>\n      <td>KR</td>\n    </tr>\n    <tr>\n      <th>26</th>\n      <td>Female</td>\n      <td>Sofia</td>\n      <td>19</td>\n      <td>Physical Therapist Assistant</td>\n      <td>FR</td>\n    </tr>\n    <tr>\n      <th>27</th>\n      <td>Male</td>\n      <td>Liam</td>\n      <td>37</td>\n      <td>Computer Programmer</td>\n      <td>KR</td>\n    </tr>\n    <tr>\n      <th>28</th>\n      <td>Female</td>\n      <td>Sophia</td>\n      <td>36</td>\n      <td>Occupational Therapist</td>\n      <td>FR</td>\n    </tr>\n    <tr>\n      <th>32</th>\n      <td>Female</td>\n      <td>Emma</td>\n      <td>37</td>\n      <td>Database Administrator</td>\n      <td>FR</td>\n    </tr>\n    <tr>\n      <th>33</th>\n      <td>Female</td>\n      <td>Isabella</td>\n      <td>17</td>\n      <td>Computer Programmer</td>\n      <td>KR</td>\n    </tr>\n    <tr>\n      <th>34</th>\n      <td>Female</td>\n      <td>Elizabeth</td>\n      <td>32</td>\n      <td>Veterinarian</td>\n      <td>KR</td>\n    </tr>\n    <tr>\n      <th>37</th>\n      <td>Female</td>\n      <td>Avery</td>\n      <td>35</td>\n      <td>Registered Nurse</td>\n      <td>JP</td>\n    </tr>\n    <tr>\n      <th>38</th>\n      <td>Male</td>\n      <td>Oliver</td>\n      <td>15</td>\n      <td>Occupational Therapist</td>\n      <td>USA</td>\n    </tr>\n    <tr>\n      <th>39</th>\n      <td>Male</td>\n      <td>James</td>\n      <td>40</td>\n      <td>Software Developer</td>\n      <td>JP</td>\n    </tr>\n    <tr>\n      <th>43</th>\n      <td>Female</td>\n      <td>Evelyn</td>\n      <td>39</td>\n      <td>Interpreter &amp; Translator</td>\n      <td>USA</td>\n    </tr>\n    <tr>\n      <th>44</th>\n      <td>Male</td>\n      <td>Noah</td>\n      <td>38</td>\n      <td>IT Manager</td>\n      <td>JP</td>\n    </tr>\n    <tr>\n      <th>45</th>\n      <td>Female</td>\n      <td>Abigail</td>\n      <td>38</td>\n      <td>Registered Nurse</td>\n      <td>JP</td>\n    </tr>\n    <tr>\n      <th>46</th>\n      <td>Male</td>\n      <td>Jackson</td>\n      <td>31</td>\n      <td>Interpreter &amp; Translator</td>\n      <td>USA</td>\n    </tr>\n    <tr>\n      <th>47</th>\n      <td>Male</td>\n      <td>Benjamin</td>\n      <td>33</td>\n      <td>Pharmacist</td>\n      <td>KR</td>\n    </tr>\n    <tr>\n      <th>48</th>\n      <td>Female</td>\n      <td>Sophia</td>\n      <td>16</td>\n      <td>Physical Therapist</td>\n      <td>KR</td>\n    </tr>\n    <tr>\n      <th>49</th>\n      <td>Male</td>\n      <td>Ethan</td>\n      <td>19</td>\n      <td>IT Manager</td>\n      <td>JP</td>\n    </tr>\n    <tr>\n      <th>50</th>\n      <td>Female</td>\n      <td>Amelia</td>\n      <td>33</td>\n      <td>Interpreter &amp; Translator</td>\n      <td>FR</td>\n    </tr>\n    <tr>\n      <th>51</th>\n      <td>Male</td>\n      <td>Michael</td>\n      <td>39</td>\n      <td>Computer Systems Analyst</td>\n      <td>FR</td>\n    </tr>\n    <tr>\n      <th>52</th>\n      <td>Male</td>\n      <td>Levi</td>\n      <td>38</td>\n      <td>Software Developer</td>\n      <td>JP</td>\n    </tr>\n    <tr>\n      <th>53</th>\n      <td>Male</td>\n      <td>Henry</td>\n      <td>31</td>\n      <td>Computer Programmer</td>\n      <td>FR</td>\n    </tr>\n    <tr>\n      <th>54</th>\n      <td>Female</td>\n      <td>Mia</td>\n      <td>34</td>\n      <td>Epidemiologist</td>\n      <td>USA</td>\n    </tr>\n    <tr>\n      <th>55</th>\n      <td>Female</td>\n      <td>Ella</td>\n      <td>36</td>\n      <td>Database Administrator</td>\n      <td>KR</td>\n    </tr>\n    <tr>\n      <th>56</th>\n      <td>Male</td>\n      <td>Mateo</td>\n      <td>33</td>\n      <td>Software Developer</td>\n      <td>KR</td>\n    </tr>\n    <tr>\n      <th>57</th>\n      <td>Male</td>\n      <td>Mateo</td>\n      <td>35</td>\n      <td>Veterinary Technologist &amp; Technician</td>\n      <td>JP</td>\n    </tr>\n    <tr>\n      <th>58</th>\n      <td>Male</td>\n      <td>Ethan</td>\n      <td>40</td>\n      <td>Physical Therapist</td>\n      <td>FR</td>\n    </tr>\n    <tr>\n      <th>59</th>\n      <td>Male</td>\n      <td>Jacob</td>\n      <td>39</td>\n      <td>Physician</td>\n      <td>USA</td>\n    </tr>\n    <tr>\n      <th>66</th>\n      <td>Male</td>\n      <td>Oliver</td>\n      <td>31</td>\n      <td>School Psychologist</td>\n      <td>FR</td>\n    </tr>\n    <tr>\n      <th>67</th>\n      <td></td>\n      <td>Aurora</td>\n      <td>17</td>\n      <td>Physical Therapist Assistant</td>\n      <td>FR</td>\n    </tr>\n    <tr>\n      <th>68</th>\n      <td>Female</td>\n      <td>Camila</td>\n      <td>37</td>\n      <td>Software Developer</td>\n      <td>FR</td>\n    </tr>\n    <tr>\n      <th>71</th>\n      <td>Male</td>\n      <td>Michael</td>\n      <td>39</td>\n      <td>Epidemiologist</td>\n      <td>JP</td>\n    </tr>\n    <tr>\n      <th>75</th>\n      <td>-</td>\n      <td>Lily</td>\n      <td>39</td>\n      <td>Occupational Therapist</td>\n      <td>FR</td>\n    </tr>\n    <tr>\n      <th>76</th>\n      <td>Female</td>\n      <td>Mila</td>\n      <td>39</td>\n      <td>IT Manager</td>\n      <td>JP</td>\n    </tr>\n    <tr>\n      <th>77</th>\n      <td>Male</td>\n      <td>William</td>\n      <td>17</td>\n      <td>Computer Systems Analyst</td>\n      <td>FR</td>\n    </tr>\n    <tr>\n      <th>78</th>\n      <td>Female</td>\n      <td>Abigail</td>\n      <td>31</td>\n      <td>Interpreter &amp; Translator</td>\n      <td>USA</td>\n    </tr>\n    <tr>\n      <th>80</th>\n      <td>Male</td>\n      <td>Noah</td>\n      <td>38</td>\n      <td>School Psychologist</td>\n      <td>FR</td>\n    </tr>\n    <tr>\n      <th>81</th>\n      <td>Female</td>\n      <td>Harper</td>\n      <td>18</td>\n      <td>Physical Therapist Assistant</td>\n      <td>JP</td>\n    </tr>\n    <tr>\n      <th>82</th>\n      <td>Male</td>\n      <td>James</td>\n      <td>32</td>\n      <td>Interpreter &amp; Translator</td>\n      <td>KR</td>\n    </tr>\n    <tr>\n      <th>83</th>\n      <td>Male</td>\n      <td>James</td>\n      <td>35</td>\n      <td>Software Developer</td>\n      <td>USA</td>\n    </tr>\n    <tr>\n      <th>87</th>\n      <td>Male</td>\n      <td>Sebastian</td>\n      <td>19</td>\n      <td>Veterinarian</td>\n      <td>USA</td>\n    </tr>\n    <tr>\n      <th>89</th>\n      <td>Female</td>\n      <td>Sofia</td>\n      <td>17</td>\n      <td>Dentist</td>\n      <td>KR</td>\n    </tr>\n    <tr>\n      <th>90</th>\n      <td>Male</td>\n      <td>Mason</td>\n      <td>31</td>\n      <td>Software Developer</td>\n      <td>USA</td>\n    </tr>\n    <tr>\n      <th>93</th>\n      <td>Female</td>\n      <td>Evelyn</td>\n      <td>38</td>\n      <td>Interpreter &amp; Translator</td>\n      <td>FR</td>\n    </tr>\n    <tr>\n      <th>94</th>\n      <td>Male</td>\n      <td>William</td>\n      <td>34</td>\n      <td>Physical Therapist</td>\n      <td>FR</td>\n    </tr>\n    <tr>\n      <th>95</th>\n      <td>-</td>\n      <td>Riley</td>\n      <td>39</td>\n      <td>Dental Hygienist</td>\n      <td>JP</td>\n    </tr>\n    <tr>\n      <th>97</th>\n      <td>Female</td>\n      <td>Amelia</td>\n      <td>38</td>\n      <td>Web Developer</td>\n      <td>USA</td>\n    </tr>\n    <tr>\n      <th>98</th>\n      <td>Female</td>\n      <td>Mia</td>\n      <td>17</td>\n      <td>School Psychologist</td>\n      <td>KR</td>\n    </tr>\n    <tr>\n      <th>99</th>\n      <td>Female</td>\n      <td>Avery</td>\n      <td>35</td>\n      <td>Physician</td>\n      <td>JP</td>\n    </tr>\n  </tbody>\n</table>\n</div>"
     },
     "execution_count": 4,
     "metadata": {},
     "output_type": "execute_result"
    }
   ],
   "source": [
    "result = df.query('')\n",
    "result"
   ],
   "metadata": {
    "collapsed": false,
    "pycharm": {
     "name": "#%%\n"
    }
   }
  },
  {
   "cell_type": "markdown",
   "source": [
    "##### Step 2: Find the number of user which job is \"Web Developer\" or \"Computer Programmer\" with query"
   ],
   "metadata": {
    "collapsed": false,
    "pycharm": {
     "name": "#%% md\n"
    }
   }
  },
  {
   "cell_type": "code",
   "execution_count": 9,
   "outputs": [
    {
     "data": {
      "text/plain": "    gender       name  age                  job country\nid                                                     \n14    Male     Oliver   21        Web Developer      FR\n15  Female        Mia   19  Computer Programmer      FR\n21    Male    William   28  Computer Programmer     USA\n27    Male       Liam   37  Computer Programmer      KR\n33  Female   Isabella   17  Computer Programmer      KR\n36    Male  Alexander   25        Web Developer     USA\n53    Male      Henry   31  Computer Programmer      FR\n85    Male  Sebastian   23        Web Developer      JP\n97  Female     Amelia   38        Web Developer     USA",
      "text/html": "<div>\n<style scoped>\n    .dataframe tbody tr th:only-of-type {\n        vertical-align: middle;\n    }\n\n    .dataframe tbody tr th {\n        vertical-align: top;\n    }\n\n    .dataframe thead th {\n        text-align: right;\n    }\n</style>\n<table border=\"1\" class=\"dataframe\">\n  <thead>\n    <tr style=\"text-align: right;\">\n      <th></th>\n      <th>gender</th>\n      <th>name</th>\n      <th>age</th>\n      <th>job</th>\n      <th>country</th>\n    </tr>\n    <tr>\n      <th>id</th>\n      <th></th>\n      <th></th>\n      <th></th>\n      <th></th>\n      <th></th>\n    </tr>\n  </thead>\n  <tbody>\n    <tr>\n      <th>14</th>\n      <td>Male</td>\n      <td>Oliver</td>\n      <td>21</td>\n      <td>Web Developer</td>\n      <td>FR</td>\n    </tr>\n    <tr>\n      <th>15</th>\n      <td>Female</td>\n      <td>Mia</td>\n      <td>19</td>\n      <td>Computer Programmer</td>\n      <td>FR</td>\n    </tr>\n    <tr>\n      <th>21</th>\n      <td>Male</td>\n      <td>William</td>\n      <td>28</td>\n      <td>Computer Programmer</td>\n      <td>USA</td>\n    </tr>\n    <tr>\n      <th>27</th>\n      <td>Male</td>\n      <td>Liam</td>\n      <td>37</td>\n      <td>Computer Programmer</td>\n      <td>KR</td>\n    </tr>\n    <tr>\n      <th>33</th>\n      <td>Female</td>\n      <td>Isabella</td>\n      <td>17</td>\n      <td>Computer Programmer</td>\n      <td>KR</td>\n    </tr>\n    <tr>\n      <th>36</th>\n      <td>Male</td>\n      <td>Alexander</td>\n      <td>25</td>\n      <td>Web Developer</td>\n      <td>USA</td>\n    </tr>\n    <tr>\n      <th>53</th>\n      <td>Male</td>\n      <td>Henry</td>\n      <td>31</td>\n      <td>Computer Programmer</td>\n      <td>FR</td>\n    </tr>\n    <tr>\n      <th>85</th>\n      <td>Male</td>\n      <td>Sebastian</td>\n      <td>23</td>\n      <td>Web Developer</td>\n      <td>JP</td>\n    </tr>\n    <tr>\n      <th>97</th>\n      <td>Female</td>\n      <td>Amelia</td>\n      <td>38</td>\n      <td>Web Developer</td>\n      <td>USA</td>\n    </tr>\n  </tbody>\n</table>\n</div>"
     },
     "execution_count": 9,
     "metadata": {},
     "output_type": "execute_result"
    }
   ],
   "source": [
    "result = df.query('')\n",
    "result"
   ],
   "metadata": {
    "collapsed": false,
    "pycharm": {
     "name": "#%%\n"
    }
   }
  },
  {
   "cell_type": "markdown",
   "source": [
    "##### Step 3: Find the number of user which the last character of name is m with query"
   ],
   "metadata": {
    "collapsed": false,
    "pycharm": {
     "name": "#%% md\n"
    }
   }
  },
  {
   "cell_type": "code",
   "execution_count": 8,
   "outputs": [
    {
     "name": "stdout",
     "output_type": "stream",
     "text": [
      "cnt: 7\n"
     ]
    }
   ],
   "source": [
    "filtered_user = df.query('', engine=\"python\")\n",
    "print(\"cnt:\", len(filtered_user))"
   ],
   "metadata": {
    "collapsed": false,
    "pycharm": {
     "name": "#%%\n"
    }
   }
  },
  {
   "cell_type": "markdown",
   "source": [
    "##### Step 4: Find the number of user for each age between 20 and 30 with query & variable"
   ],
   "metadata": {
    "collapsed": false,
    "pycharm": {
     "name": "#%% md\n"
    }
   }
  },
  {
   "cell_type": "code",
   "execution_count": 12,
   "outputs": [
    {
     "name": "stdout",
     "output_type": "stream",
     "text": [
      "number of user that age is 20: 2\n",
      "number of user that age is 21: 8\n",
      "number of user that age is 22: 2\n",
      "number of user that age is 23: 7\n",
      "number of user that age is 24: 2\n",
      "number of user that age is 25: 4\n",
      "number of user that age is 26: 3\n",
      "number of user that age is 27: 4\n",
      "number of user that age is 28: 3\n",
      "number of user that age is 29: 5\n"
     ]
    }
   ],
   "source": [
    "for i in range(20, 30):\n",
    "    result = df.query('')\n",
    "    print(f\"number of user that age is {i}: {len(result)}\")"
   ],
   "metadata": {
    "collapsed": false,
    "pycharm": {
     "name": "#%%\n"
    }
   }
  },
  {
   "cell_type": "markdown",
   "source": [
    "##### Step 5: Find the number of user which name contain \"am\" with query & regex"
   ],
   "metadata": {
    "collapsed": false,
    "pycharm": {
     "name": "#%% md\n"
    }
   }
  },
  {
   "cell_type": "code",
   "execution_count": 14,
   "outputs": [
    {
     "name": "stdout",
     "output_type": "stream",
     "text": [
      "    gender      name  age                           job country\n",
      "id                                                             \n",
      "1     Male     James   27  Physical Therapist Assistant     USA\n",
      "5     Male      Liam   27                     Physician     USA\n",
      "21    Male   William   28           Computer Programmer     USA\n",
      "22    Male  Benjamin   38           Mechanical Engineer      FR\n",
      "27    Male      Liam   37           Computer Programmer      KR\n",
      "30    Male      Liam   21            Physical Therapist     USA\n",
      "39    Male     James   40            Software Developer      JP\n",
      "40    Male      Liam   26                     Physician      JP\n",
      "47    Male  Benjamin   33                    Pharmacist      KR\n",
      "68  Female    Camila   37            Software Developer      FR\n",
      "77    Male   William   17      Computer Systems Analyst      FR\n",
      "79  Female    Camila   24           School Psychologist      FR\n",
      "82    Male     James   32      Interpreter & Translator      KR\n",
      "83    Male     James   35            Software Developer     USA\n",
      "94    Male   William   34            Physical Therapist      FR\n",
      "cnt: 15\n"
     ]
    }
   ],
   "source": [
    "filtered_user = df.query('')\n",
    "print(filtered_user)\n",
    "print(\"cnt:\", len(filtered_user))"
   ],
   "metadata": {
    "collapsed": false,
    "pycharm": {
     "name": "#%%\n"
    }
   }
  }
 ],
 "metadata": {
  "kernelspec": {
   "display_name": "Python 3",
   "language": "python",
   "name": "python3"
  },
  "language_info": {
   "codemirror_mode": {
    "name": "ipython",
    "version": 2
   },
   "file_extension": ".py",
   "mimetype": "text/x-python",
   "name": "python",
   "nbconvert_exporter": "python",
   "pygments_lexer": "ipython2",
   "version": "2.7.6"
  }
 },
 "nbformat": 4,
 "nbformat_minor": 0
}