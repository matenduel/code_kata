{
 "cells": [
  {
   "cell_type": "markdown",
   "source": [
    "### Problem19: Closure"
   ],
   "metadata": {
    "collapsed": false,
    "pycharm": {
     "name": "#%% md\n"
    }
   }
  },
  {
   "cell_type": "markdown",
   "source": [
    "##### Step 1: What is Closure"
   ],
   "metadata": {
    "collapsed": false,
    "pycharm": {
     "name": "#%% md\n"
    }
   }
  },
  {
   "cell_type": "code",
   "execution_count": 23,
   "outputs": [],
   "source": [
    "def generate_first_order_equation(a: int, b: int):\n",
    "    def first_order_equation(x: int) -> int:\n",
    "        return a * x + b\n",
    "    return first_order_equation"
   ],
   "metadata": {
    "collapsed": false,
    "pycharm": {
     "name": "#%%\n"
    }
   }
  },
  {
   "cell_type": "code",
   "execution_count": 24,
   "outputs": [],
   "source": [
    "equation1 = generate_first_order_equation(a=5, b=3)\n",
    "equation2 = generate_first_order_equation(a=10, b=2)"
   ],
   "metadata": {
    "collapsed": false,
    "pycharm": {
     "name": "#%%\n"
    }
   }
  },
  {
   "cell_type": "code",
   "execution_count": 26,
   "outputs": [
    {
     "name": "stdout",
     "output_type": "stream",
     "text": [
      "equation1 = 3, equation2 = 2\n",
      "equation1 = 8, equation2 = 12\n",
      "equation1 = 13, equation2 = 22\n",
      "equation1 = 18, equation2 = 32\n",
      "equation1 = 23, equation2 = 42\n"
     ]
    }
   ],
   "source": [
    "for i in range(5):\n",
    "    print(f\"equation1 = {equation1(i)}, equation2 = {equation2(i)}\")"
   ],
   "metadata": {
    "collapsed": false,
    "pycharm": {
     "name": "#%%\n"
    }
   }
  },
  {
   "cell_type": "code",
   "execution_count": null,
   "outputs": [],
   "source": [],
   "metadata": {
    "collapsed": false,
    "pycharm": {
     "name": "#%%\n"
    }
   }
  },
  {
   "cell_type": "markdown",
   "source": [
    "##### Step 2: variables of inner function will be set right before the return statement"
   ],
   "metadata": {
    "collapsed": false,
    "pycharm": {
     "name": "#%% md\n"
    }
   }
  },
  {
   "cell_type": "code",
   "execution_count": 36,
   "outputs": [],
   "source": [
    "def outer():\n",
    "    call_cnt: int = 0\n",
    "    def inner():\n",
    "        print(f\"{call_cnt=}\")\n",
    "        print(\"hello. this is inner_function\")\n",
    "    call_cnt += 1\n",
    "    return inner"
   ],
   "metadata": {
    "collapsed": false,
    "pycharm": {
     "name": "#%%\n"
    }
   }
  },
  {
   "cell_type": "code",
   "execution_count": 40,
   "outputs": [
    {
     "name": "stdout",
     "output_type": "stream",
     "text": [
      "call_info={'call_cnt': 0}\n",
      "hello. this is inner_function\n",
      "call_info={'call_cnt': 1}\n",
      "hello. this is inner_function\n",
      "\n",
      "make inner_func again\n",
      "call_info={'call_cnt': 0}\n",
      "hello. this is inner_function\n"
     ]
    }
   ],
   "source": [
    "inner_func = outer()\n",
    "inner_func()\n",
    "inner_func()\n",
    "print(\"\\nmake inner_func again\")\n",
    "inner_func = outer()\n",
    "inner_func()"
   ],
   "metadata": {
    "collapsed": false,
    "pycharm": {
     "name": "#%%\n"
    }
   }
  },
  {
   "cell_type": "markdown",
   "source": [
    "##### Step 3: What if we use the mutable object as a variable?"
   ],
   "metadata": {
    "collapsed": false,
    "pycharm": {
     "name": "#%% md\n"
    }
   }
  },
  {
   "cell_type": "code",
   "execution_count": 38,
   "outputs": [],
   "source": [
    "def outer():\n",
    "    call_info: dict = {\"call_cnt\": 0}\n",
    "    def inner():\n",
    "        print(f\"{call_info=}\")\n",
    "        print(\"hello. this is inner_function\")\n",
    "        call_info[\"call_cnt\"] += 1\n",
    "    return inner"
   ],
   "metadata": {
    "collapsed": false,
    "pycharm": {
     "name": "#%%\n"
    }
   }
  },
  {
   "cell_type": "code",
   "execution_count": 41,
   "outputs": [
    {
     "name": "stdout",
     "output_type": "stream",
     "text": [
      "call_info={'call_cnt': 0}\n",
      "hello. this is inner_function\n",
      "call_info={'call_cnt': 1}\n",
      "hello. this is inner_function\n",
      "call_info={'call_cnt': 2}\n",
      "hello. this is inner_function\n",
      "\n",
      "make inner_func again\n",
      "call_info={'call_cnt': 0}\n",
      "hello. this is inner_function\n"
     ]
    }
   ],
   "source": [
    "inner_func = outer()\n",
    "inner_func()\n",
    "inner_func()\n",
    "inner_func()\n",
    "\n",
    "print(\"\\nmake inner_func again\")\n",
    "inner_func2 = outer()\n",
    "inner_func2()"
   ],
   "metadata": {
    "collapsed": false,
    "pycharm": {
     "name": "#%%\n"
    }
   }
  }
 ],
 "metadata": {
  "kernelspec": {
   "display_name": "Python 3",
   "language": "python",
   "name": "python3"
  },
  "language_info": {
   "codemirror_mode": {
    "name": "ipython",
    "version": 2
   },
   "file_extension": ".py",
   "mimetype": "text/x-python",
   "name": "python",
   "nbconvert_exporter": "python",
   "pygments_lexer": "ipython2",
   "version": "2.7.6"
  }
 },
 "nbformat": 4,
 "nbformat_minor": 0
}