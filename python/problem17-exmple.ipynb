{
 "cells": [
  {
   "cell_type": "markdown",
   "source": [
    "### Problem17: Custom Exception"
   ],
   "metadata": {
    "collapsed": false,
    "pycharm": {
     "name": "#%% md\n"
    }
   }
  },
  {
   "cell_type": "markdown",
   "source": [
    "##### Step 1: Mutable Object"
   ],
   "metadata": {
    "collapsed": false,
    "pycharm": {
     "name": "#%% md\n"
    }
   }
  },
  {
   "cell_type": "code",
   "execution_count": 6,
   "outputs": [],
   "source": [
    "def add_func(a: int, b: int) -> int:\n",
    "    print(\"\\n\")\n",
    "    print(\"(before)id of a :\", id(a))\n",
    "    print(\"(before)id of b :\", id(b))\n",
    "    a += 5\n",
    "    total = a + b\n",
    "    print(\"\\n\")\n",
    "    print(\"(after)id of a :\", id(a))\n",
    "    print(\"(after)id of b :\", id(b))\n",
    "    print(\"\\n\")\n",
    "    print(\"(after)id of result :\", id(total))\n",
    "    return total"
   ],
   "metadata": {
    "collapsed": false,
    "pycharm": {
     "name": "#%%\n"
    }
   }
  },
  {
   "cell_type": "code",
   "execution_count": 10,
   "outputs": [
    {
     "name": "stdout",
     "output_type": "stream",
     "text": [
      "(main)id of a : 2886777569552\n",
      "(main)id of b : 2886777569808\n",
      "\n",
      "\n",
      "(before)id of a : 2886777569552\n",
      "(before)id of b : 2886777569808\n",
      "\n",
      "\n",
      "(after)id of a : 2886777569712\n",
      "(after)id of b : 2886777569808\n",
      "(after)id of result : 2886777570032\n",
      "(main)id of result : 2886777570032\n"
     ]
    }
   ],
   "source": [
    "a = 2\n",
    "b = 10\n",
    "print(\"(main)id of a :\", id(a))\n",
    "print(\"(main)id of b :\", id(b))\n",
    "result = add_func(a, b)\n",
    "print(\"(main)id of result :\", id(result))"
   ],
   "metadata": {
    "collapsed": false,
    "pycharm": {
     "name": "#%%\n"
    }
   }
  },
  {
   "cell_type": "markdown",
   "source": [
    "##### Step 2: Immutable Object"
   ],
   "metadata": {
    "collapsed": false,
    "pycharm": {
     "name": "#%% md\n"
    }
   }
  },
  {
   "cell_type": "code",
   "execution_count": 15,
   "outputs": [],
   "source": [
    "def merge_dict(a: dict, b: dict) -> dict:\n",
    "    print(\"\\n\")\n",
    "    print(\"(before)id of a :\", id(a))\n",
    "    print(\"(before)id of b :\", id(b))\n",
    "    a[\"num1\"] += 5\n",
    "    merged = a.update(b)\n",
    "    print(\"\\n\")\n",
    "    print(\"(after)id of a :\", id(a))\n",
    "    print(\"(after)id of b :\", id(b))\n",
    "    print(\"\\n\")\n",
    "    print(\"(after)id of result :\", id(merged))\n",
    "    return merged\n"
   ],
   "metadata": {
    "collapsed": false,
    "pycharm": {
     "name": "#%%\n"
    }
   }
  },
  {
   "cell_type": "code",
   "execution_count": 16,
   "outputs": [
    {
     "name": "stdout",
     "output_type": "stream",
     "text": [
      "(main)id of a : 2887272193664\n",
      "(main)id of b : 2887273069760\n",
      "\n",
      "\n",
      "(before)id of a : 2887272193664\n",
      "(before)id of b : 2887273069760\n",
      "\n",
      "\n",
      "(after)id of a : 2887272193664\n",
      "(after)id of b : 2887273069760\n",
      "(after)id of result : 140733661087736\n",
      "(main)id of result : 140733661087736\n"
     ]
    }
   ],
   "source": [
    "a = {\"num1\": 2}\n",
    "b = {\"num2\": 29}\n",
    "print(\"(main)id of a :\", id(a))\n",
    "print(\"(main)id of b :\", id(b))\n",
    "result = merge_dict(a, b)\n",
    "print(\"(main)id of result :\", id(result))"
   ],
   "metadata": {
    "collapsed": false,
    "pycharm": {
     "name": "#%%\n"
    }
   }
  }
 ],
 "metadata": {
  "kernelspec": {
   "display_name": "Python 3",
   "language": "python",
   "name": "python3"
  },
  "language_info": {
   "codemirror_mode": {
    "name": "ipython",
    "version": 2
   },
   "file_extension": ".py",
   "mimetype": "text/x-python",
   "name": "python",
   "nbconvert_exporter": "python",
   "pygments_lexer": "ipython2",
   "version": "2.7.6"
  }
 },
 "nbformat": 4,
 "nbformat_minor": 0
}