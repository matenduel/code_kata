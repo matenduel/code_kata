{
 "cells": [
  {
   "cell_type": "markdown",
   "source": [
    "### Problem17: About Exception"
   ],
   "metadata": {
    "collapsed": false,
    "pycharm": {
     "name": "#%% md\n"
    }
   }
  },
  {
   "cell_type": "markdown",
   "source": [
    "##### Step 1: Built-in Exception\n",
    "All Built-in Exception list -> [official document](https://docs.python.org/3/library/exceptions.html)\n",
    "1. ValueError\n",
    "2. KeyError\n",
    "3. TypeError\n",
    "4. AttributeError\n",
    "5. IndexError\n",
    "6. KeyboardInterrupt\n",
    "7. ZeroDivisionError"
   ],
   "metadata": {
    "collapsed": false,
    "pycharm": {
     "name": "#%% md\n"
    }
   }
  },
  {
   "cell_type": "code",
   "execution_count": 10,
   "outputs": [
    {
     "name": "stdout",
     "output_type": "stream",
     "text": [
      "Input Invalid Value. input_value='d' is not numeric value\n",
      "default_error_message=\"invalid literal for int() with base 10: 'd'\"\n"
     ]
    }
   ],
   "source": [
    "# ValueError\n",
    "try:\n",
    "    input_number = int(input_value := input(\"아무거나 입력해보세요: \"))\n",
    "    print(f\"{input_number} is number\")\n",
    "except ValueError as e:\n",
    "    default_error_message = str(e)\n",
    "    print(f\"Input Invalid Value. {input_value=} is not numeric value\")\n",
    "    print(f\"{default_error_message=}\")"
   ],
   "metadata": {
    "collapsed": false,
    "pycharm": {
     "name": "#%%\n"
    }
   }
  },
  {
   "cell_type": "code",
   "execution_count": 12,
   "outputs": [
    {
     "name": "stdout",
     "output_type": "stream",
     "text": [
      "Invalid Key name. Key must be one of [name, age]\n",
      "default_error_message=\"'names'\"\n"
     ]
    }
   ],
   "source": [
    "# KeyError\n",
    "sample_dict = {\"name\": \"Balaan\", \"age\": 7}\n",
    "try:\n",
    "    print(f\"name is {sample_dict['names']}\")\n",
    "    print(f\"age is {sample_dict['age']}\")\n",
    "except KeyError as e:\n",
    "    default_error_message = str(e)\n",
    "    print(f\"Invalid Key name. Key must be one of [{', '.join(sample_dict.keys())}]\")\n",
    "    print(f\"{default_error_message=}\")"
   ],
   "metadata": {
    "collapsed": false,
    "pycharm": {
     "name": "#%%\n"
    }
   }
  },
  {
   "cell_type": "code",
   "execution_count": 17,
   "outputs": [
    {
     "name": "stdout",
     "output_type": "stream",
     "text": [
      "default_error_message=\"unsupported operand type(s) for +: 'int' and 'str'\"\n"
     ]
    }
   ],
   "source": [
    "# TypeError\n",
    "try:\n",
    "    a = 1 + \"abc\"\n",
    "except TypeError as e:\n",
    "    default_error_message = str(e)\n",
    "    print(f\"{default_error_message=}\")"
   ],
   "metadata": {
    "collapsed": false,
    "pycharm": {
     "name": "#%%\n"
    }
   }
  },
  {
   "cell_type": "code",
   "execution_count": 16,
   "outputs": [
    {
     "name": "stdout",
     "output_type": "stream",
     "text": [
      "name='Balaan'\n",
      "name='No Name'\n",
      "default_error_message=\"'NoneType' object has no attribute 'get'\"\n"
     ]
    }
   ],
   "source": [
    "# AttributeError\n",
    "sample_records = [\n",
    "    {\"name\": \"Balaan\", \"age\": 7},\n",
    "    {\"Name\": \"Market\", \"age\": 27},\n",
    "    None,\n",
    "    {\"name\": \"Curl\", \"age\": 9}\n",
    "]\n",
    "try:\n",
    "    for record in sample_records:\n",
    "        name = record.get(\"name\", \"No Name\")\n",
    "        print(f\"{name=}\")\n",
    "    pass\n",
    "except AttributeError as e:\n",
    "    default_error_message = str(e)\n",
    "    print(f\"{default_error_message=}\")"
   ],
   "metadata": {
    "collapsed": false,
    "pycharm": {
     "name": "#%%\n"
    }
   }
  },
  {
   "cell_type": "code",
   "execution_count": null,
   "outputs": [],
   "source": [
    "# IndexError\n",
    "sample_list = [1, 5, 3, 2, 10]\n",
    "try:\n",
    "    for idx, value in enumerate(sample_list):\n",
    "        if value > sample_list[idx + 1]:\n",
    "            print(\"pass\")\n",
    "        else:\n",
    "            print(\"Invalid\")\n",
    "except IndexError as e:\n",
    "    default_error_message = str(e)\n",
    "    print(f\"Out of Range!\")\n",
    "    print(f\"{default_error_message=}\")"
   ],
   "metadata": {
    "collapsed": false,
    "pycharm": {
     "name": "#%%\n"
    }
   }
  },
  {
   "cell_type": "code",
   "execution_count": null,
   "outputs": [],
   "source": [
    "# ZeroDivisionError\n",
    "try:\n",
    "    n = 5\n",
    "    for i in range(n + 1):\n",
    "        print(i / (n - i))\n",
    "except ZeroDivisionError as e:\n",
    "    default_error_message = str(e)\n",
    "    print(\"Can't divide the number by zero!\")\n",
    "    print(f\"{default_error_message=}\")"
   ],
   "metadata": {
    "collapsed": false,
    "pycharm": {
     "name": "#%%\n"
    }
   }
  },
  {
   "cell_type": "code",
   "execution_count": 14,
   "outputs": [
    {
     "name": "stdout",
     "output_type": "stream",
     "text": [
      "Use 'CTRL+C' to exit the code or programs!\n",
      "KeyboardInterrupt occur\n",
      "default_error_message=''\n"
     ]
    }
   ],
   "source": [
    "from time import sleep\n",
    "\n",
    "\n",
    "# KeyboardInterrupt\n",
    "try:\n",
    "    while True:\n",
    "        print(f\"Use 'CTRL+C' to exit the code or programs!\")\n",
    "        sleep(3)\n",
    "except KeyboardInterrupt:\n",
    "    print(\"KeyboardInterrupt occur\")"
   ],
   "metadata": {
    "collapsed": false,
    "pycharm": {
     "name": "#%%\n"
    }
   }
  },
  {
   "cell_type": "markdown",
   "source": [
    "##### Step 2: Use else && finally statement"
   ],
   "metadata": {
    "collapsed": false,
    "pycharm": {
     "name": "#%% md\n"
    }
   }
  },
  {
   "cell_type": "code",
   "execution_count": 52,
   "outputs": [
    {
     "name": "stdout",
     "output_type": "stream",
     "text": [
      "\n",
      " ##########\n",
      "result=0.0\n",
      "Done 0 times\n",
      "\n",
      " ##########\n",
      "result=1.0\n",
      "Done 1 times\n",
      "\n",
      " ##########\n",
      "Error\n",
      "Done 2 times\n",
      "\n",
      " ##########\n",
      "result=-3.0\n",
      "Done 3 times\n"
     ]
    }
   ],
   "source": [
    "n = 3\n",
    "for i in range(n + 1):\n",
    "    print(\"\\n\", \"#\" * 10)\n",
    "    try:\n",
    "        result = i / (2 - i)\n",
    "    except ZeroDivisionError:\n",
    "        print(\"Error\")\n",
    "    else:\n",
    "        print(f\"{result=}\")\n",
    "    finally:\n",
    "        print(f\"Done {i} times\")"
   ],
   "metadata": {
    "collapsed": false,
    "pycharm": {
     "name": "#%%\n"
    }
   }
  },
  {
   "cell_type": "markdown",
   "source": [
    "##### Step 3: Use Custom Exception"
   ],
   "metadata": {
    "collapsed": false,
    "pycharm": {
     "name": "#%% md\n"
    }
   }
  },
  {
   "cell_type": "code",
   "execution_count": 23,
   "outputs": [
    {
     "name": "stdout",
     "output_type": "stream",
     "text": [
      "before Exception\n",
      "error massage = raise custom exception. detail: raise Exception\n"
     ]
    }
   ],
   "source": [
    "class CustomException(Exception):\n",
    "    #생성할때 value 값을 입력 받는다.\n",
    "    def __init__(self, msg, *args, **kwargs):\n",
    "        self.msg = f\"raise custom exception. detail: {msg}\"\n",
    "        self.kwargs = kwargs\n",
    "\n",
    "    #생성할때 받은 value 값을 확인 한다.\n",
    "    def __str__(self):\n",
    "        return self.msg\n",
    "\n",
    "try:\n",
    "    print(\"before Exception\")\n",
    "    raise CustomException(\"raise Exception\", location=\"Code\")\n",
    "    print(\"After Exception\")\n",
    "except CustomException as e:\n",
    "    print(f\"error massage = {e.msg}\")\n"
   ],
   "metadata": {
    "collapsed": false,
    "pycharm": {
     "name": "#%%\n"
    }
   }
  },
  {
   "cell_type": "markdown",
   "source": [
    "##### Step 4: Exception hierarchy && Ordering"
   ],
   "metadata": {
    "collapsed": false,
    "pycharm": {
     "name": "#%% md\n"
    }
   }
  },
  {
   "cell_type": "code",
   "execution_count": 33,
   "outputs": [],
   "source": [
    "class NameNotFoundException(CustomException):\n",
    "    #생성할때 value 값을 입력 받는다.\n",
    "    def __init__(self, *args, **kwargs):\n",
    "        self.msg = f\"Name Not Found\"\n",
    "        super(NameNotFoundException, self).__init__(msg = self.msg, *args, **kwargs)\n",
    "        print(\"kwargs :\", self.kwargs)\n",
    "\n",
    "    #생성할때 받은 value 값을 확인 한다.\n",
    "    def __str__(self):\n",
    "        return self.msg\n",
    "\n",
    "class InvalidNameException(ValueError):\n",
    "    #생성할때 value 값을 입력 받는다.\n",
    "    def __init__(self, *args, **kwargs):\n",
    "        self.msg = f\"Invalid Name\""
   ],
   "metadata": {
    "collapsed": false,
    "pycharm": {
     "name": "#%%\n"
    }
   }
  },
  {
   "cell_type": "code",
   "execution_count": 44,
   "outputs": [
    {
     "name": "stdout",
     "output_type": "stream",
     "text": [
      "\n",
      "\n",
      "processing...\n",
      "name is Kim Chicken\n",
      "done\n",
      "\n",
      "\n",
      "processing...\n",
      "{}\n",
      "Catch NameNotFoundException in NameNotFoundException block\n",
      "raise custom exception. detail: Name Not Found\n",
      "done\n",
      "\n",
      "\n",
      "processing...\n",
      "Catch InvalidNameException in ValueError block\n",
      "done\n",
      "\n",
      "\n",
      "processing...\n",
      "Catch ValueError in ValueError block\n",
      "done\n"
     ]
    }
   ],
   "source": [
    "sample_records = [\n",
    "    {\"name\": \"Kim Chicken\", \"age\": 7},\n",
    "    {\"Name\": \"Kim Bap\", \"age\": 27},\n",
    "    {\"name\": \"Han Guk Bap\", \"age\": 9},\n",
    "    {\"name\": 100, \"age\": \"10\"},\n",
    "]\n",
    "\n",
    "for record in sample_records:\n",
    "    print(\"\\n\")\n",
    "    print(\"processing...\")\n",
    "    try:\n",
    "        if \"name\" not in record:\n",
    "            raise NameNotFoundException()\n",
    "\n",
    "        name = record[\"name\"]\n",
    "        if not isinstance(name, str):\n",
    "            raise ValueError(\"Invalid Value\")\n",
    "        last_name, _ = name.split(\" \", 1)\n",
    "\n",
    "        if last_name != \"Kim\":\n",
    "            raise InvalidNameException()\n",
    "\n",
    "    except NameNotFoundException as e:\n",
    "        block_name = \"NameNotFoundException\"\n",
    "        print(f\"Catch {e.__class__.__name__} in {block_name} block\")\n",
    "        print(e.msg)\n",
    "    except ValueError as e:\n",
    "        # ValueError and all the subclasses of ValueError will be caught by this statement\n",
    "        block_name = \"ValueError\"\n",
    "        print(f\"Catch {e.__class__.__name__} in {block_name} block\")\n",
    "    except InvalidNameException as e:\n",
    "        # This code will not be working!!!\n",
    "        # Because InvalidNameException is subclass of ValueError\n",
    "        block_name = \"InvalidNameException\"\n",
    "        print(f\"Catch {e.__class__.__name__} in {block_name} block\")\n",
    "        print(e.msg)\n",
    "    else:\n",
    "        print(f\"name is {name}\")\n",
    "    finally:\n",
    "        print(\"done\")"
   ],
   "metadata": {
    "collapsed": false,
    "pycharm": {
     "name": "#%%\n"
    }
   }
  },
  {
   "cell_type": "code",
   "execution_count": 45,
   "outputs": [
    {
     "name": "stdout",
     "output_type": "stream",
     "text": [
      "\n",
      "\n",
      "processing...\n",
      "name is Kim Chicken\n",
      "done\n",
      "\n",
      "\n",
      "processing...\n",
      "{}\n",
      "Catch NameNotFoundException in NameNotFoundException block\n",
      "raise custom exception. detail: Name Not Found\n",
      "done\n",
      "\n",
      "\n",
      "processing...\n",
      "Catch InvalidNameException in InvalidNameException block\n",
      "Invalid Name\n",
      "done\n",
      "\n",
      "\n",
      "processing...\n",
      "Catch ValueError in ValueError block\n",
      "done\n"
     ]
    }
   ],
   "source": [
    "sample_records = [\n",
    "    {\"name\": \"Kim Chicken\", \"age\": 7},\n",
    "    {\"Name\": \"Kim Bap\", \"age\": 27},\n",
    "    {\"name\": \"Han Guk Bap\", \"age\": 9},\n",
    "    {\"name\": 100, \"age\": \"10\"},\n",
    "]\n",
    "\n",
    "for record in sample_records:\n",
    "    print(\"\\n\")\n",
    "    print(\"processing...\")\n",
    "    try:\n",
    "        if \"name\" not in record:\n",
    "            raise NameNotFoundException()\n",
    "\n",
    "        name = record[\"name\"]\n",
    "        if not isinstance(name, str):\n",
    "            raise ValueError(\"Invalid Value\")\n",
    "        last_name, _ = name.split(\" \", 1)\n",
    "\n",
    "        if last_name != \"Kim\":\n",
    "            raise InvalidNameException()\n",
    "\n",
    "    except NameNotFoundException as e:\n",
    "        block_name = \"NameNotFoundException\"\n",
    "        print(f\"Catch {e.__class__.__name__} in {block_name} block\")\n",
    "        print(e.msg)\n",
    "    except InvalidNameException as e:\n",
    "        # This code will work well!!!\n",
    "        block_name = \"InvalidNameException\"\n",
    "        print(f\"Catch {e.__class__.__name__} in {block_name} block\")\n",
    "        print(e.msg)\n",
    "    except ValueError as e:\n",
    "        # ValueError and all the subclasses of ValueError will be caught\n",
    "        # by this statement except InvalidNameException\n",
    "        block_name = \"ValueError\"\n",
    "        print(f\"Catch {e.__class__.__name__} in {block_name} block\")\n",
    "    else:\n",
    "        print(f\"name is {name}\")\n",
    "    finally:\n",
    "        print(\"done\")"
   ],
   "metadata": {
    "collapsed": false,
    "pycharm": {
     "name": "#%%\n"
    }
   }
  },
  {
   "cell_type": "markdown",
   "source": [
    "##### Step 5: Catch multiple exception"
   ],
   "metadata": {
    "collapsed": false,
    "pycharm": {
     "name": "#%% md\n"
    }
   }
  },
  {
   "cell_type": "code",
   "execution_count": 59,
   "outputs": [
    {
     "name": "stdout",
     "output_type": "stream",
     "text": [
      "2 Banana\n",
      "3 Calamansi\n",
      "3 Calamansi\n",
      "ValueError occur\n",
      "3 Calamansi\n",
      "2 Banana\n",
      "3 Calamansi\n",
      "ValueError occur\n",
      "ValueError occur\n",
      "ValueError occur\n"
     ]
    }
   ],
   "source": [
    "from random import randrange\n",
    "\n",
    "\n",
    "sample_list = [\"Apple\", \"Banana\", \"Calamansi\"]\n",
    "for i in range(10):\n",
    "    try:\n",
    "        rand = randrange(1, 5)\n",
    "        if rand == 1:\n",
    "            raise ValueError\n",
    "        print(rand, sample_list[rand-1])\n",
    "    except (ValueError, IndexError) as e:\n",
    "        print(f\"{e.__class__.__name__} occur\")"
   ],
   "metadata": {
    "collapsed": false,
    "pycharm": {
     "name": "#%%\n"
    }
   }
  },
  {
   "cell_type": "markdown",
   "source": [
    "##### Step 6: Exception Switch? (from e)"
   ],
   "metadata": {
    "collapsed": false,
    "pycharm": {
     "name": "#%% md\n"
    }
   }
  },
  {
   "cell_type": "code",
   "execution_count": 66,
   "outputs": [
    {
     "name": "stdout",
     "output_type": "stream",
     "text": [
      "Han Guk Bap\n",
      "Kim Chicken\n",
      "Han Guk Bap\n",
      "\tKeyError occur in function\n",
      "CustomException Occur in outside function\n",
      "Han Guk Bap\n",
      "Han Guk Bap\n",
      "Kim Chicken\n",
      "Han Guk Bap\n",
      "Han Guk Bap\n",
      "100\n"
     ]
    }
   ],
   "source": [
    "from random import randrange\n",
    "\n",
    "def get_random_name(records: list[dict]) -> name:\n",
    "    try:\n",
    "         idx = randrange(0, len(records))\n",
    "         return records[idx][\"name\"]\n",
    "    except (IndexError, KeyError) as e:\n",
    "        print(f\"\\t{e.__class__.__name__} occur in function\")\n",
    "        raise CustomException(msg=\"change exception\") from e\n",
    "\n",
    "for _ in range(10):\n",
    "    try:\n",
    "        print(get_random_name(sample_records))\n",
    "    except CustomException:\n",
    "        print(f\"CustomException Occur in outside function\")\n",
    "    except KeyError:\n",
    "        print(\"KeyError Occur in outside function\")"
   ],
   "metadata": {
    "collapsed": false,
    "pycharm": {
     "name": "#%%\n"
    }
   }
  }
 ],
 "metadata": {
  "kernelspec": {
   "display_name": "Python 3",
   "language": "python",
   "name": "python3"
  },
  "language_info": {
   "codemirror_mode": {
    "name": "ipython",
    "version": 2
   },
   "file_extension": ".py",
   "mimetype": "text/x-python",
   "name": "python",
   "nbconvert_exporter": "python",
   "pygments_lexer": "ipython2",
   "version": "2.7.6"
  }
 },
 "nbformat": 4,
 "nbformat_minor": 0
}