{
 "cells": [
  {
   "cell_type": "markdown",
   "source": [
    "### Problem13: pandas delete duplicated & aggregation"
   ],
   "metadata": {
    "collapsed": false,
    "pycharm": {
     "name": "#%% md\n"
    }
   }
  },
  {
   "cell_type": "code",
   "execution_count": 10,
   "outputs": [],
   "source": [
    "import pandas as pd"
   ],
   "metadata": {
    "collapsed": false,
    "pycharm": {
     "name": "#%%\n"
    }
   }
  },
  {
   "cell_type": "code",
   "execution_count": 11,
   "outputs": [],
   "source": [
    "df = pd.read_csv('data/order_list_with_dup.csv')"
   ],
   "metadata": {
    "collapsed": false,
    "pycharm": {
     "name": "#%%\n"
    }
   }
  },
  {
   "cell_type": "markdown",
   "source": [
    "##### Step 1: Find the duplicated order data from files\n",
    "* ###### keep = 'first' => Mark duplicates as True except for the first occurrence.\n",
    "* ###### keep = 'last' => Mark duplicates as True except for the last occurrence.\n",
    "* ###### keep = False  => Mark all duplicates as True\n"
   ],
   "metadata": {
    "collapsed": false,
    "pycharm": {
     "name": "#%% md\n"
    }
   }
  },
  {
   "cell_type": "code",
   "execution_count": 16,
   "outputs": [
    {
     "data": {
      "text/plain": "    shop_id  goods_no               goods_nm customer_name  order_date   price\n4       126    183005   Thom Browne Necklace          jane  2022-01-04  724140\n7       154    183012  Bottega Veneta Shirts         Burry  2022-01-04  599860\n10      126    183005   Thom Browne Necklace          jane  2022-01-04  724140\n11       62    183017             Prada Coat          Mike  2021-12-28  625820\n24       85    183018     Thom Browne Shirts          jane  2022-01-01  749430",
      "text/html": "<div>\n<style scoped>\n    .dataframe tbody tr th:only-of-type {\n        vertical-align: middle;\n    }\n\n    .dataframe tbody tr th {\n        vertical-align: top;\n    }\n\n    .dataframe thead th {\n        text-align: right;\n    }\n</style>\n<table border=\"1\" class=\"dataframe\">\n  <thead>\n    <tr style=\"text-align: right;\">\n      <th></th>\n      <th>shop_id</th>\n      <th>goods_no</th>\n      <th>goods_nm</th>\n      <th>customer_name</th>\n      <th>order_date</th>\n      <th>price</th>\n    </tr>\n  </thead>\n  <tbody>\n    <tr>\n      <th>4</th>\n      <td>126</td>\n      <td>183005</td>\n      <td>Thom Browne Necklace</td>\n      <td>jane</td>\n      <td>2022-01-04</td>\n      <td>724140</td>\n    </tr>\n    <tr>\n      <th>7</th>\n      <td>154</td>\n      <td>183012</td>\n      <td>Bottega Veneta Shirts</td>\n      <td>Burry</td>\n      <td>2022-01-04</td>\n      <td>599860</td>\n    </tr>\n    <tr>\n      <th>10</th>\n      <td>126</td>\n      <td>183005</td>\n      <td>Thom Browne Necklace</td>\n      <td>jane</td>\n      <td>2022-01-04</td>\n      <td>724140</td>\n    </tr>\n    <tr>\n      <th>11</th>\n      <td>62</td>\n      <td>183017</td>\n      <td>Prada Coat</td>\n      <td>Mike</td>\n      <td>2021-12-28</td>\n      <td>625820</td>\n    </tr>\n    <tr>\n      <th>24</th>\n      <td>85</td>\n      <td>183018</td>\n      <td>Thom Browne Shirts</td>\n      <td>jane</td>\n      <td>2022-01-01</td>\n      <td>749430</td>\n    </tr>\n  </tbody>\n</table>\n</div>"
     },
     "execution_count": 16,
     "metadata": {},
     "output_type": "execute_result"
    }
   ],
   "source": [
    "dup_data = df[df.duplicated(keep='last')]\n",
    "dup_data"
   ],
   "metadata": {
    "collapsed": false,
    "pycharm": {
     "name": "#%%\n"
    }
   }
  },
  {
   "cell_type": "markdown",
   "source": [
    "##### Step 2: Find the first order of each shop"
   ],
   "metadata": {
    "collapsed": false,
    "pycharm": {
     "name": "#%% md\n"
    }
   }
  },
  {
   "cell_type": "code",
   "execution_count": 17,
   "outputs": [
    {
     "data": {
      "text/plain": "    shop_id  goods_no               goods_nm customer_name  order_date   price\n0       163    183058             Prada Coat          Mike  2021-12-26  674900\n1       104    183028        Gucci Accessory         Stark  2022-01-15  102870\n2       181    183003         Gucci Necklace          Mike  2022-01-07  576900\n3       136    183039     Ferragamo Necklace         Burry  2022-01-08  683100\n4       126    183005   Thom Browne Necklace          jane  2022-01-04  724140\n5       146    183042   Thom Browne T-Shirts         Stark  2021-12-29  708960\n6        24    183038        Ferragamo Pants          Alex  2022-01-06  864780\n7       154    183012  Bottega Veneta Shirts         Burry  2022-01-04  599860\n8        47    183052   Thom Browne T-Shirts         Stark  2021-12-26  321080\n11       62    183017             Prada Coat          Mike  2021-12-28  625820\n12       51    183054         Prada T-Shirts          jane  2022-01-04  566100\n15       52    183034     Thom Browne Shirts          Alex  2022-01-15  615700\n16       86    183025   Bottega Veneta Pants         Stark  2021-12-28  785680\n18       12    183016  Bottega Veneta Shirts         Stark  2021-12-29  477960\n19       37    183001      Thom Browne Pants          jane  2021-12-30  375830\n21       17    183035        Ferragamo Pants          Alex  2022-01-05  928720\n22        6    183051   Bottega Veneta Pants         Burry  2022-01-15  280000\n24       85    183018     Thom Browne Shirts          jane  2022-01-01  749430\n27      190    183023     Thom Browne Shirts          jane  2021-12-31  829010",
      "text/html": "<div>\n<style scoped>\n    .dataframe tbody tr th:only-of-type {\n        vertical-align: middle;\n    }\n\n    .dataframe tbody tr th {\n        vertical-align: top;\n    }\n\n    .dataframe thead th {\n        text-align: right;\n    }\n</style>\n<table border=\"1\" class=\"dataframe\">\n  <thead>\n    <tr style=\"text-align: right;\">\n      <th></th>\n      <th>shop_id</th>\n      <th>goods_no</th>\n      <th>goods_nm</th>\n      <th>customer_name</th>\n      <th>order_date</th>\n      <th>price</th>\n    </tr>\n  </thead>\n  <tbody>\n    <tr>\n      <th>0</th>\n      <td>163</td>\n      <td>183058</td>\n      <td>Prada Coat</td>\n      <td>Mike</td>\n      <td>2021-12-26</td>\n      <td>674900</td>\n    </tr>\n    <tr>\n      <th>1</th>\n      <td>104</td>\n      <td>183028</td>\n      <td>Gucci Accessory</td>\n      <td>Stark</td>\n      <td>2022-01-15</td>\n      <td>102870</td>\n    </tr>\n    <tr>\n      <th>2</th>\n      <td>181</td>\n      <td>183003</td>\n      <td>Gucci Necklace</td>\n      <td>Mike</td>\n      <td>2022-01-07</td>\n      <td>576900</td>\n    </tr>\n    <tr>\n      <th>3</th>\n      <td>136</td>\n      <td>183039</td>\n      <td>Ferragamo Necklace</td>\n      <td>Burry</td>\n      <td>2022-01-08</td>\n      <td>683100</td>\n    </tr>\n    <tr>\n      <th>4</th>\n      <td>126</td>\n      <td>183005</td>\n      <td>Thom Browne Necklace</td>\n      <td>jane</td>\n      <td>2022-01-04</td>\n      <td>724140</td>\n    </tr>\n    <tr>\n      <th>5</th>\n      <td>146</td>\n      <td>183042</td>\n      <td>Thom Browne T-Shirts</td>\n      <td>Stark</td>\n      <td>2021-12-29</td>\n      <td>708960</td>\n    </tr>\n    <tr>\n      <th>6</th>\n      <td>24</td>\n      <td>183038</td>\n      <td>Ferragamo Pants</td>\n      <td>Alex</td>\n      <td>2022-01-06</td>\n      <td>864780</td>\n    </tr>\n    <tr>\n      <th>7</th>\n      <td>154</td>\n      <td>183012</td>\n      <td>Bottega Veneta Shirts</td>\n      <td>Burry</td>\n      <td>2022-01-04</td>\n      <td>599860</td>\n    </tr>\n    <tr>\n      <th>8</th>\n      <td>47</td>\n      <td>183052</td>\n      <td>Thom Browne T-Shirts</td>\n      <td>Stark</td>\n      <td>2021-12-26</td>\n      <td>321080</td>\n    </tr>\n    <tr>\n      <th>11</th>\n      <td>62</td>\n      <td>183017</td>\n      <td>Prada Coat</td>\n      <td>Mike</td>\n      <td>2021-12-28</td>\n      <td>625820</td>\n    </tr>\n    <tr>\n      <th>12</th>\n      <td>51</td>\n      <td>183054</td>\n      <td>Prada T-Shirts</td>\n      <td>jane</td>\n      <td>2022-01-04</td>\n      <td>566100</td>\n    </tr>\n    <tr>\n      <th>15</th>\n      <td>52</td>\n      <td>183034</td>\n      <td>Thom Browne Shirts</td>\n      <td>Alex</td>\n      <td>2022-01-15</td>\n      <td>615700</td>\n    </tr>\n    <tr>\n      <th>16</th>\n      <td>86</td>\n      <td>183025</td>\n      <td>Bottega Veneta Pants</td>\n      <td>Stark</td>\n      <td>2021-12-28</td>\n      <td>785680</td>\n    </tr>\n    <tr>\n      <th>18</th>\n      <td>12</td>\n      <td>183016</td>\n      <td>Bottega Veneta Shirts</td>\n      <td>Stark</td>\n      <td>2021-12-29</td>\n      <td>477960</td>\n    </tr>\n    <tr>\n      <th>19</th>\n      <td>37</td>\n      <td>183001</td>\n      <td>Thom Browne Pants</td>\n      <td>jane</td>\n      <td>2021-12-30</td>\n      <td>375830</td>\n    </tr>\n    <tr>\n      <th>21</th>\n      <td>17</td>\n      <td>183035</td>\n      <td>Ferragamo Pants</td>\n      <td>Alex</td>\n      <td>2022-01-05</td>\n      <td>928720</td>\n    </tr>\n    <tr>\n      <th>22</th>\n      <td>6</td>\n      <td>183051</td>\n      <td>Bottega Veneta Pants</td>\n      <td>Burry</td>\n      <td>2022-01-15</td>\n      <td>280000</td>\n    </tr>\n    <tr>\n      <th>24</th>\n      <td>85</td>\n      <td>183018</td>\n      <td>Thom Browne Shirts</td>\n      <td>jane</td>\n      <td>2022-01-01</td>\n      <td>749430</td>\n    </tr>\n    <tr>\n      <th>27</th>\n      <td>190</td>\n      <td>183023</td>\n      <td>Thom Browne Shirts</td>\n      <td>jane</td>\n      <td>2021-12-31</td>\n      <td>829010</td>\n    </tr>\n  </tbody>\n</table>\n</div>"
     },
     "execution_count": 17,
     "metadata": {},
     "output_type": "execute_result"
    }
   ],
   "source": [
    "first_order = df[~df.duplicated(subset=[\"shop_id\"], keep='first')]\n",
    "first_order"
   ],
   "metadata": {
    "collapsed": false,
    "pycharm": {
     "name": "#%%\n"
    }
   }
  },
  {
   "cell_type": "markdown",
   "source": [
    "##### Step 3: Find the first order of each customer"
   ],
   "metadata": {
    "collapsed": false,
    "pycharm": {
     "name": "#%% md\n"
    }
   }
  },
  {
   "cell_type": "code",
   "execution_count": 18,
   "outputs": [
    {
     "data": {
      "text/plain": "   shop_id  goods_no              goods_nm customer_name  order_date   price\n0      163    183058            Prada Coat          Mike  2021-12-26  674900\n1      104    183028       Gucci Accessory         Stark  2022-01-15  102870\n3      136    183039    Ferragamo Necklace         Burry  2022-01-08  683100\n4      126    183005  Thom Browne Necklace          jane  2022-01-04  724140\n6       24    183038       Ferragamo Pants          Alex  2022-01-06  864780\n9      163    183010        Prada Necklace          Tony  2022-01-09  792990",
      "text/html": "<div>\n<style scoped>\n    .dataframe tbody tr th:only-of-type {\n        vertical-align: middle;\n    }\n\n    .dataframe tbody tr th {\n        vertical-align: top;\n    }\n\n    .dataframe thead th {\n        text-align: right;\n    }\n</style>\n<table border=\"1\" class=\"dataframe\">\n  <thead>\n    <tr style=\"text-align: right;\">\n      <th></th>\n      <th>shop_id</th>\n      <th>goods_no</th>\n      <th>goods_nm</th>\n      <th>customer_name</th>\n      <th>order_date</th>\n      <th>price</th>\n    </tr>\n  </thead>\n  <tbody>\n    <tr>\n      <th>0</th>\n      <td>163</td>\n      <td>183058</td>\n      <td>Prada Coat</td>\n      <td>Mike</td>\n      <td>2021-12-26</td>\n      <td>674900</td>\n    </tr>\n    <tr>\n      <th>1</th>\n      <td>104</td>\n      <td>183028</td>\n      <td>Gucci Accessory</td>\n      <td>Stark</td>\n      <td>2022-01-15</td>\n      <td>102870</td>\n    </tr>\n    <tr>\n      <th>3</th>\n      <td>136</td>\n      <td>183039</td>\n      <td>Ferragamo Necklace</td>\n      <td>Burry</td>\n      <td>2022-01-08</td>\n      <td>683100</td>\n    </tr>\n    <tr>\n      <th>4</th>\n      <td>126</td>\n      <td>183005</td>\n      <td>Thom Browne Necklace</td>\n      <td>jane</td>\n      <td>2022-01-04</td>\n      <td>724140</td>\n    </tr>\n    <tr>\n      <th>6</th>\n      <td>24</td>\n      <td>183038</td>\n      <td>Ferragamo Pants</td>\n      <td>Alex</td>\n      <td>2022-01-06</td>\n      <td>864780</td>\n    </tr>\n    <tr>\n      <th>9</th>\n      <td>163</td>\n      <td>183010</td>\n      <td>Prada Necklace</td>\n      <td>Tony</td>\n      <td>2022-01-09</td>\n      <td>792990</td>\n    </tr>\n  </tbody>\n</table>\n</div>"
     },
     "execution_count": 18,
     "metadata": {},
     "output_type": "execute_result"
    }
   ],
   "source": [
    "first_order = df[~df.duplicated(subset=[\"customer_name\"], keep='first')]\n",
    "first_order"
   ],
   "metadata": {
    "collapsed": false,
    "pycharm": {
     "name": "#%%\n"
    }
   }
  },
  {
   "cell_type": "markdown",
   "source": [
    "##### Step 4: Get total price and average price of each customer"
   ],
   "metadata": {
    "collapsed": false,
    "pycharm": {
     "name": "#%% md\n"
    }
   }
  },
  {
   "cell_type": "code",
   "execution_count": 20,
   "outputs": [
    {
     "data": {
      "text/plain": "               total_price      avg_price\ncustomer_name                            \nAlex               2409200  803066.666667\nBurry              2495320  499064.000000\nMike               3066740  613348.000000\nStark              2396550  479310.000000\nTony               1793270  597756.666667\njane               6269160  626916.000000",
      "text/html": "<div>\n<style scoped>\n    .dataframe tbody tr th:only-of-type {\n        vertical-align: middle;\n    }\n\n    .dataframe tbody tr th {\n        vertical-align: top;\n    }\n\n    .dataframe thead th {\n        text-align: right;\n    }\n</style>\n<table border=\"1\" class=\"dataframe\">\n  <thead>\n    <tr style=\"text-align: right;\">\n      <th></th>\n      <th>total_price</th>\n      <th>avg_price</th>\n    </tr>\n    <tr>\n      <th>customer_name</th>\n      <th></th>\n      <th></th>\n    </tr>\n  </thead>\n  <tbody>\n    <tr>\n      <th>Alex</th>\n      <td>2409200</td>\n      <td>803066.666667</td>\n    </tr>\n    <tr>\n      <th>Burry</th>\n      <td>2495320</td>\n      <td>499064.000000</td>\n    </tr>\n    <tr>\n      <th>Mike</th>\n      <td>3066740</td>\n      <td>613348.000000</td>\n    </tr>\n    <tr>\n      <th>Stark</th>\n      <td>2396550</td>\n      <td>479310.000000</td>\n    </tr>\n    <tr>\n      <th>Tony</th>\n      <td>1793270</td>\n      <td>597756.666667</td>\n    </tr>\n    <tr>\n      <th>jane</th>\n      <td>6269160</td>\n      <td>626916.000000</td>\n    </tr>\n  </tbody>\n</table>\n</div>"
     },
     "execution_count": 20,
     "metadata": {},
     "output_type": "execute_result"
    }
   ],
   "source": [
    "agg_data = df.groupby('customer_name').agg(total_price=(\"price\", \"sum\"), avg_price=(\"price\", \"mean\"))\n",
    "agg_data"
   ],
   "metadata": {
    "collapsed": false,
    "pycharm": {
     "name": "#%%\n"
    }
   }
  },
  {
   "cell_type": "markdown",
   "source": [
    "##### Step 5: Count the # of unique goods_no for each shop sold"
   ],
   "metadata": {
    "collapsed": false,
    "pycharm": {
     "name": "#%% md\n"
    }
   }
  },
  {
   "cell_type": "code",
   "execution_count": 42,
   "outputs": [
    {
     "data": {
      "text/plain": "    shop_id  unique_goods\n0         6             1\n1        12             1\n2        17             1\n3        24             1\n4        37             1\n5        47             1\n6        51             1\n7        52             1\n8        62             1\n9        85             1\n10       86             1\n11      104             2\n12      126             1\n13      136             1\n14      146             1\n15      154             1\n16      163             2\n17      181             1\n18      190             1",
      "text/html": "<div>\n<style scoped>\n    .dataframe tbody tr th:only-of-type {\n        vertical-align: middle;\n    }\n\n    .dataframe tbody tr th {\n        vertical-align: top;\n    }\n\n    .dataframe thead th {\n        text-align: right;\n    }\n</style>\n<table border=\"1\" class=\"dataframe\">\n  <thead>\n    <tr style=\"text-align: right;\">\n      <th></th>\n      <th>shop_id</th>\n      <th>unique_goods</th>\n    </tr>\n  </thead>\n  <tbody>\n    <tr>\n      <th>0</th>\n      <td>6</td>\n      <td>1</td>\n    </tr>\n    <tr>\n      <th>1</th>\n      <td>12</td>\n      <td>1</td>\n    </tr>\n    <tr>\n      <th>2</th>\n      <td>17</td>\n      <td>1</td>\n    </tr>\n    <tr>\n      <th>3</th>\n      <td>24</td>\n      <td>1</td>\n    </tr>\n    <tr>\n      <th>4</th>\n      <td>37</td>\n      <td>1</td>\n    </tr>\n    <tr>\n      <th>5</th>\n      <td>47</td>\n      <td>1</td>\n    </tr>\n    <tr>\n      <th>6</th>\n      <td>51</td>\n      <td>1</td>\n    </tr>\n    <tr>\n      <th>7</th>\n      <td>52</td>\n      <td>1</td>\n    </tr>\n    <tr>\n      <th>8</th>\n      <td>62</td>\n      <td>1</td>\n    </tr>\n    <tr>\n      <th>9</th>\n      <td>85</td>\n      <td>1</td>\n    </tr>\n    <tr>\n      <th>10</th>\n      <td>86</td>\n      <td>1</td>\n    </tr>\n    <tr>\n      <th>11</th>\n      <td>104</td>\n      <td>2</td>\n    </tr>\n    <tr>\n      <th>12</th>\n      <td>126</td>\n      <td>1</td>\n    </tr>\n    <tr>\n      <th>13</th>\n      <td>136</td>\n      <td>1</td>\n    </tr>\n    <tr>\n      <th>14</th>\n      <td>146</td>\n      <td>1</td>\n    </tr>\n    <tr>\n      <th>15</th>\n      <td>154</td>\n      <td>1</td>\n    </tr>\n    <tr>\n      <th>16</th>\n      <td>163</td>\n      <td>2</td>\n    </tr>\n    <tr>\n      <th>17</th>\n      <td>181</td>\n      <td>1</td>\n    </tr>\n    <tr>\n      <th>18</th>\n      <td>190</td>\n      <td>1</td>\n    </tr>\n  </tbody>\n</table>\n</div>"
     },
     "execution_count": 42,
     "metadata": {},
     "output_type": "execute_result"
    }
   ],
   "source": [
    "cnt_result = df.groupby(\"shop_id\")[\"goods_no\"].nunique()\n",
    "cnt_result = cnt_result.reset_index()\n",
    "cnt_result_with_rename = cnt_result.rename(columns={\"goods_no\": \"unique_goods\"})\n",
    "cnt_result_with_rename"
   ],
   "metadata": {
    "collapsed": false,
    "pycharm": {
     "name": "#%%\n"
    }
   }
  },
  {
   "cell_type": "markdown",
   "source": [
    "##### Step 6: Find the shop that sold more than 2 different goods"
   ],
   "metadata": {
    "collapsed": false,
    "pycharm": {
     "name": "#%% md\n"
    }
   }
  },
  {
   "cell_type": "code",
   "execution_count": 44,
   "outputs": [
    {
     "data": {
      "text/plain": "    shop_id  unique_goods\n11      104             2\n16      163             2",
      "text/html": "<div>\n<style scoped>\n    .dataframe tbody tr th:only-of-type {\n        vertical-align: middle;\n    }\n\n    .dataframe tbody tr th {\n        vertical-align: top;\n    }\n\n    .dataframe thead th {\n        text-align: right;\n    }\n</style>\n<table border=\"1\" class=\"dataframe\">\n  <thead>\n    <tr style=\"text-align: right;\">\n      <th></th>\n      <th>shop_id</th>\n      <th>unique_goods</th>\n    </tr>\n  </thead>\n  <tbody>\n    <tr>\n      <th>11</th>\n      <td>104</td>\n      <td>2</td>\n    </tr>\n    <tr>\n      <th>16</th>\n      <td>163</td>\n      <td>2</td>\n    </tr>\n  </tbody>\n</table>\n</div>"
     },
     "execution_count": 44,
     "metadata": {},
     "output_type": "execute_result"
    }
   ],
   "source": [
    "shop_list = cnt_result_with_rename[cnt_result_with_rename[\"unique_goods\"] > 1]\n",
    "shop_list"
   ],
   "metadata": {
    "collapsed": false,
    "pycharm": {
     "name": "#%%\n"
    }
   }
  }
 ],
 "metadata": {
  "kernelspec": {
   "display_name": "Python 3",
   "language": "python",
   "name": "python3"
  },
  "language_info": {
   "codemirror_mode": {
    "name": "ipython",
    "version": 2
   },
   "file_extension": ".py",
   "mimetype": "text/x-python",
   "name": "python",
   "nbconvert_exporter": "python",
   "pygments_lexer": "ipython2",
   "version": "2.7.6"
  }
 },
 "nbformat": 4,
 "nbformat_minor": 0
}