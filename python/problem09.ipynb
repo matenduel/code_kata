{
 "cells": [
  {
   "cell_type": "markdown",
   "source": [
    "### Problem09: Basic Regex\n",
    "##### Ref. https://docs.python.org/3.9/howto/regex.html"
   ],
   "metadata": {
    "collapsed": false,
    "pycharm": {
     "name": "#%% md\n"
    }
   }
  },
  {
   "cell_type": "code",
   "execution_count": 1,
   "outputs": [],
   "source": [
    "import re"
   ],
   "metadata": {
    "collapsed": false,
    "pycharm": {
     "name": "#%%\n"
    }
   }
  },
  {
   "cell_type": "code",
   "execution_count": 64,
   "outputs": [],
   "source": [
    "# Chat (ID/email)\n",
    "text = \"\"\"\n",
    "hello world(a8KvK_41/support@company.co.kr)\n",
    "hello friend(cskp_69/customer@company.co.kr)\n",
    "go~~~~~~~(mW_6/cs@company.co.kr)\n",
    "Greeting!(GKvht_93/customer@company.co.kr)\n",
    "hello!!(4O_37254/provider@company.co.kr)\n",
    "hell33!!(/provider@company.co.kr)\n",
    "\"\"\""
   ],
   "metadata": {
    "collapsed": false,
    "pycharm": {
     "name": "#%%\n"
    }
   }
  },
  {
   "cell_type": "markdown",
   "source": [
    "##### Matching Character\n",
    "> \\d = [0-9]\n",
    "> \\D = [^0-9]\n",
    "> \\s = [ \\t\\n\\r\\f\\v]\n",
    "> \\S = [^ \\t\\n\\r\\f\\v]\n",
    "> \\w = [a-zA-Z0-9_]\n",
    "> \\W = [^a-zA-Z0-9_]"
   ],
   "metadata": {
    "collapsed": false,
    "pycharm": {
     "name": "#%% md\n"
    }
   }
  },
  {
   "cell_type": "markdown",
   "source": [
    "##### Step 1: Retrieve ID and email from text"
   ],
   "metadata": {
    "collapsed": false,
    "pycharm": {
     "name": "#%% md\n"
    }
   }
  },
  {
   "cell_type": "code",
   "execution_count": 65,
   "outputs": [
    {
     "name": "stdout",
     "output_type": "stream",
     "text": [
      "ID: a8KvK_41, email: support@company.co.kr\n",
      "ID: cskp_69, email: customer@company.co.kr\n",
      "ID: mW_6, email: cs@company.co.kr\n",
      "ID: GKvht_93, email: customer@company.co.kr\n",
      "ID: 4O_37254, email: provider@company.co.kr\n"
     ]
    }
   ],
   "source": [
    "user_extractor = re.compile(\"\\([\\w]+/[^(/]+\\)\")\n",
    "\n",
    "for data in user_extractor.finditer(text):\n",
    "    user_id, user_email = data.group()[1:-1].split(\"/\")\n",
    "    print(f\"ID: {user_id}, email: {user_email}\")"
   ],
   "metadata": {
    "collapsed": false,
    "pycharm": {
     "name": "#%%\n"
    }
   }
  },
  {
   "cell_type": "markdown",
   "source": [
    "##### Step 2: Retrieve the chat data by excluding some character"
   ],
   "metadata": {
    "collapsed": false,
    "pycharm": {
     "name": "#%% md\n"
    }
   }
  },
  {
   "cell_type": "code",
   "execution_count": 66,
   "outputs": [
    {
     "name": "stdout",
     "output_type": "stream",
     "text": [
      "chat: hello world\n",
      "chat: hello friend\n",
      "chat: go~~~~~~~\n",
      "chat: Greeting!\n",
      "chat: hello!!\n",
      "chat: hell33!!\n"
     ]
    }
   ],
   "source": [
    "chat_extractor = re.compile(\"[^()\\n]+\\(\")\n",
    "\n",
    "for data in chat_extractor.finditer(text):\n",
    "    chat = data.group()[:-1]\n",
    "    print(f\"chat: {chat}\")"
   ],
   "metadata": {
    "collapsed": false,
    "pycharm": {
     "name": "#%%\n"
    }
   }
  },
  {
   "cell_type": "markdown",
   "source": [
    "##### Special Character\n",
    "> \\* : Causes the resulting RE to match 0 or more repetitions => {0, }\n",
    "> \\+ : Causes the resulting RE to match 1 or more repetitions => {1, }\n",
    "> \\? : Causes the resulting RE to match 0 or 1 repetitions => {0, 1}\n",
    "> \\^ : Matches the start of the string\n",
    "> \\$ : Matches the end of the string or just before the newline at the end of the string"
   ],
   "metadata": {
    "collapsed": false,
    "pycharm": {
     "name": "#%% md\n"
    }
   }
  },
  {
   "cell_type": "markdown",
   "source": [
    "##### Step 3: Use * instead of + to include the log that no user_id in it"
   ],
   "metadata": {
    "collapsed": false,
    "pycharm": {
     "name": "#%% md\n"
    }
   }
  },
  {
   "cell_type": "code",
   "execution_count": 67,
   "outputs": [
    {
     "name": "stdout",
     "output_type": "stream",
     "text": [
      "ID: a8KvK_41, email: support@company.co.kr\n",
      "ID: cskp_69, email: customer@company.co.kr\n",
      "ID: mW_6, email: cs@company.co.kr\n",
      "ID: GKvht_93, email: customer@company.co.kr\n",
      "ID: 4O_37254, email: provider@company.co.kr\n",
      "ID: , email: provider@company.co.kr\n"
     ]
    }
   ],
   "source": [
    "user_extractor = re.compile(\"\\([\\w]*/[^(/]+\\)\")\n",
    "\n",
    "for data in user_extractor.finditer(text):\n",
    "    user_id, user_email = data.group()[1:-1].split(\"/\")\n",
    "    print(f\"ID: {user_id}, email: {user_email}\")"
   ],
   "metadata": {
    "collapsed": false,
    "pycharm": {
     "name": "#%%\n"
    }
   }
  },
  {
   "cell_type": "markdown",
   "source": [
    "##### Step 4: Use ^ to get first chat"
   ],
   "metadata": {
    "collapsed": false,
    "pycharm": {
     "name": "#%% md\n"
    }
   }
  },
  {
   "cell_type": "code",
   "execution_count": 68,
   "outputs": [
    {
     "name": "stdout",
     "output_type": "stream",
     "text": [
      "Object : <re.Match object; span=(0, 12), match='\\nhello world'>\n",
      "text : hello world\n"
     ]
    }
   ],
   "source": [
    "first_chat_extractor = re.compile(\"^[^(]+\")\n",
    "print(\"Object :\", first_chat_extractor.search(text))\n",
    "print(\"text :\", first_chat_extractor.search(text).group().strip())"
   ],
   "metadata": {
    "collapsed": false,
    "pycharm": {
     "name": "#%%\n"
    }
   }
  },
  {
   "cell_type": "markdown",
   "source": [
    "##### Step 5: Use $ to get last chat"
   ],
   "metadata": {
    "collapsed": false,
    "pycharm": {
     "name": "#%% md\n"
    }
   }
  },
  {
   "cell_type": "code",
   "execution_count": 69,
   "outputs": [
    {
     "name": "stdout",
     "output_type": "stream",
     "text": [
      "Object : <re.Match object; span=(207, 240), match='hell33!!(/provider@company.co.kr)'>\n",
      "text : hell33!!(/provider@company.co.kr)\n"
     ]
    }
   ],
   "source": [
    "last_log_extractor = re.compile(\"[^\\n]+$\")\n",
    "print(\"Object :\", last_log_extractor.search(text))\n",
    "print(\"text :\", last_log_extractor.search(text).group().strip())"
   ],
   "metadata": {
    "collapsed": false,
    "pycharm": {
     "name": "#%%\n"
    }
   }
  },
  {
   "cell_type": "markdown",
   "source": [
    "##### Step 6: Greedy Vs Non-greedy"
   ],
   "metadata": {
    "collapsed": false,
    "pycharm": {
     "name": "#%% md\n"
    }
   }
  },
  {
   "cell_type": "code",
   "execution_count": 81,
   "outputs": [
    {
     "name": "stdout",
     "output_type": "stream",
     "text": [
      "<re.Match object; span=(0, 16), match='James/Mark/Alex/'>\n",
      "<re.Match object; span=(0, 6), match='James/'>\n"
     ]
    }
   ],
   "source": [
    "name_list = \"James/Mark/Alex/Pio\"\n",
    "\n",
    "greedy_name_extractor = re.compile(\".+/\")\n",
    "print(greedy_name_extractor.search(name_list))\n",
    "\n",
    "non_greedy_name_extractor = re.compile(\".+?/\")\n",
    "print(non_greedy_name_extractor.search(name_list))"
   ],
   "metadata": {
    "collapsed": false,
    "pycharm": {
     "name": "#%%\n"
    }
   }
  },
  {
   "cell_type": "markdown",
   "source": [
    "##### Step 7: Retrieve ID and email from text with group name"
   ],
   "metadata": {
    "collapsed": false,
    "pycharm": {
     "name": "#%% md\n"
    }
   }
  },
  {
   "cell_type": "code",
   "execution_count": 72,
   "outputs": [
    {
     "name": "stdout",
     "output_type": "stream",
     "text": [
      "ID: a8KvK_41, email: support@company.co.kr\n",
      "ID: cskp_69, email: customer@company.co.kr\n",
      "ID: mW_6, email: cs@company.co.kr\n",
      "ID: GKvht_93, email: customer@company.co.kr\n",
      "ID: 4O_37254, email: provider@company.co.kr\n",
      "ID: , email: provider@company.co.kr\n"
     ]
    }
   ],
   "source": [
    "user_extractor_with_group = re.compile(\"\\((?P<user_id>[\\w]*)/(?P<user_email>[^(/]+)\\)\")\n",
    "\n",
    "for data in user_extractor_with_group.finditer(text):\n",
    "    user_id = data.group(\"user_id\")\n",
    "    user_email = data.group(\"user_email\")\n",
    "    print(f\"ID: {user_id}, email: {user_email}\")"
   ],
   "metadata": {
    "collapsed": false,
    "pycharm": {
     "name": "#%%\n"
    }
   }
  },
  {
   "cell_type": "markdown",
   "source": [
    "##### Step 8: Find the text that the length of ~ is 3 to 5\n",
    "* ###### Limit the character repetitions"
   ],
   "metadata": {
    "collapsed": false,
    "pycharm": {
     "name": "#%% md\n"
    }
   }
  },
  {
   "cell_type": "code",
   "execution_count": 82,
   "outputs": [
    {
     "name": "stdout",
     "output_type": "stream",
     "text": [
      "Fight~~~!\n",
      "gogogo~~~~~!\n"
     ]
    }
   ],
   "source": [
    "cheering_chats = \"\"\"\n",
    "go2win~~~~~~!\n",
    "go~~!\n",
    "Fight~~~!\n",
    "gogogo~~~~~!\n",
    "\"\"\"\n",
    "extractor_with_limitation = re.compile(\"[\\w]+~{3,5}!\")\n",
    "\n",
    "for data in extractor_with_limitation.finditer(cheering_chats):\n",
    "    print(data.group())"
   ],
   "metadata": {
    "collapsed": false,
    "pycharm": {
     "name": "#%%\n"
    }
   }
  }
 ],
 "metadata": {
  "kernelspec": {
   "display_name": "Python 3",
   "language": "python",
   "name": "python3"
  },
  "language_info": {
   "codemirror_mode": {
    "name": "ipython",
    "version": 2
   },
   "file_extension": ".py",
   "mimetype": "text/x-python",
   "name": "python",
   "nbconvert_exporter": "python",
   "pygments_lexer": "ipython2",
   "version": "2.7.6"
  }
 },
 "nbformat": 4,
 "nbformat_minor": 0
}